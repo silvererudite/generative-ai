{
 "cells": [
  {
   "cell_type": "markdown",
   "id": "124e5672",
   "metadata": {},
   "source": [
    "# Custom Chatbot Project"
   ]
  },
  {
   "cell_type": "markdown",
   "id": "2a4a94b3",
   "metadata": {},
   "source": [
    "I want to build a Shakespearean character role play bot that talks in Katherine the Shrew's tone and voice. This bot can assume the role of thser inis character and provide replies to the user. This is the dataset that I want to use which contains all the lines scraped from the play \"The taming of the Shrew\" \n",
    "https://www.kaggle.com/datasets/guslovesmath/shakespeare-plays-dataset\n",
    "\n",
    "I want to accomplish this task using In-context learning with one-shot and few shot prompts. "
   ]
  },
  {
   "cell_type": "markdown",
   "id": "a63d4c5f",
   "metadata": {},
   "source": [
    "## Data Wrangling\n"
   ]
  },
  {
   "cell_type": "code",
   "execution_count": 1,
   "id": "7aa77ecf-8701-45e1-936b-9591d27259b1",
   "metadata": {
    "collapsed": true,
    "jupyter": {
     "outputs_hidden": true
    },
    "tags": []
   },
   "outputs": [
    {
     "name": "stdout",
     "output_type": "stream",
     "text": [
      "Collecting openai\n",
      "  Downloading openai-1.31.0-py3-none-any.whl.metadata (21 kB)\n",
      "Requirement already satisfied: anyio<5,>=3.5.0 in /home/ec2-user/anaconda3/envs/python3/lib/python3.10/site-packages (from openai) (4.3.0)\n",
      "Collecting distro<2,>=1.7.0 (from openai)\n",
      "  Downloading distro-1.9.0-py3-none-any.whl.metadata (6.8 kB)\n",
      "Requirement already satisfied: httpx<1,>=0.23.0 in /home/ec2-user/anaconda3/envs/python3/lib/python3.10/site-packages (from openai) (0.27.0)\n",
      "Collecting pydantic<3,>=1.9.0 (from openai)\n",
      "  Downloading pydantic-2.7.3-py3-none-any.whl.metadata (108 kB)\n",
      "\u001b[2K     \u001b[90m━━━━━━━━━━━━━━━━━━━━━━━━━━━━━━━━━━━━━━\u001b[0m \u001b[32m109.0/109.0 kB\u001b[0m \u001b[31m16.9 MB/s\u001b[0m eta \u001b[36m0:00:00\u001b[0m\n",
      "\u001b[?25hRequirement already satisfied: sniffio in /home/ec2-user/anaconda3/envs/python3/lib/python3.10/site-packages (from openai) (1.3.1)\n",
      "Requirement already satisfied: tqdm>4 in /home/ec2-user/anaconda3/envs/python3/lib/python3.10/site-packages (from openai) (4.66.2)\n",
      "Requirement already satisfied: typing-extensions<5,>=4.7 in /home/ec2-user/anaconda3/envs/python3/lib/python3.10/site-packages (from openai) (4.10.0)\n",
      "Requirement already satisfied: idna>=2.8 in /home/ec2-user/anaconda3/envs/python3/lib/python3.10/site-packages (from anyio<5,>=3.5.0->openai) (3.6)\n",
      "Requirement already satisfied: exceptiongroup>=1.0.2 in /home/ec2-user/anaconda3/envs/python3/lib/python3.10/site-packages (from anyio<5,>=3.5.0->openai) (1.2.0)\n",
      "Requirement already satisfied: certifi in /home/ec2-user/anaconda3/envs/python3/lib/python3.10/site-packages (from httpx<1,>=0.23.0->openai) (2024.2.2)\n",
      "Requirement already satisfied: httpcore==1.* in /home/ec2-user/anaconda3/envs/python3/lib/python3.10/site-packages (from httpx<1,>=0.23.0->openai) (1.0.4)\n",
      "Requirement already satisfied: h11<0.15,>=0.13 in /home/ec2-user/anaconda3/envs/python3/lib/python3.10/site-packages (from httpcore==1.*->httpx<1,>=0.23.0->openai) (0.14.0)\n",
      "Collecting annotated-types>=0.4.0 (from pydantic<3,>=1.9.0->openai)\n",
      "  Downloading annotated_types-0.7.0-py3-none-any.whl.metadata (15 kB)\n",
      "Collecting pydantic-core==2.18.4 (from pydantic<3,>=1.9.0->openai)\n",
      "  Downloading pydantic_core-2.18.4-cp310-cp310-manylinux_2_17_x86_64.manylinux2014_x86_64.whl.metadata (6.5 kB)\n",
      "Downloading openai-1.31.0-py3-none-any.whl (324 kB)\n",
      "\u001b[2K   \u001b[90m━━━━━━━━━━━━━━━━━━━━━━━━━━━━━━━━━━━━━━━━\u001b[0m \u001b[32m324.1/324.1 kB\u001b[0m \u001b[31m7.3 MB/s\u001b[0m eta \u001b[36m0:00:00\u001b[0m:00:01\u001b[0m\n",
      "\u001b[?25hDownloading distro-1.9.0-py3-none-any.whl (20 kB)\n",
      "Downloading pydantic-2.7.3-py3-none-any.whl (409 kB)\n",
      "\u001b[2K   \u001b[90m━━━━━━━━━━━━━━━━━━━━━━━━━━━━━━━━━━━━━━━━\u001b[0m \u001b[32m409.6/409.6 kB\u001b[0m \u001b[31m10.1 MB/s\u001b[0m eta \u001b[36m0:00:00\u001b[0m00:01\u001b[0m\n",
      "\u001b[?25hDownloading pydantic_core-2.18.4-cp310-cp310-manylinux_2_17_x86_64.manylinux2014_x86_64.whl (2.0 MB)\n",
      "\u001b[2K   \u001b[90m━━━━━━━━━━━━━━━━━━━━━━━━━━━━━━━━━━━━━━━━\u001b[0m \u001b[32m2.0/2.0 MB\u001b[0m \u001b[31m21.1 MB/s\u001b[0m eta \u001b[36m0:00:00\u001b[0m:00:01\u001b[0m\n",
      "\u001b[?25hDownloading annotated_types-0.7.0-py3-none-any.whl (13 kB)\n",
      "Installing collected packages: pydantic-core, distro, annotated-types, pydantic, openai\n",
      "Successfully installed annotated-types-0.7.0 distro-1.9.0 openai-1.31.0 pydantic-2.7.3 pydantic-core-2.18.4\n"
     ]
    }
   ],
   "source": [
    "!pip install openai"
   ]
  },
  {
   "cell_type": "code",
   "execution_count": 2,
   "id": "c69b83a1",
   "metadata": {
    "tags": []
   },
   "outputs": [],
   "source": [
    "import pandas as pd\n",
    "import numpy as np\n",
    "import openai\n",
    "from typing import List, Union, Dict\n",
    "from scipy.spatial.distance import cosine"
   ]
  },
  {
   "cell_type": "code",
   "execution_count": 36,
   "id": "0a595980",
   "metadata": {
    "tags": []
   },
   "outputs": [],
   "source": [
    "data = pd.read_csv('shakespeare_plays.csv')"
   ]
  },
  {
   "cell_type": "code",
   "execution_count": 37,
   "id": "acb3a9fd",
   "metadata": {
    "tags": []
   },
   "outputs": [
    {
     "data": {
      "text/html": [
       "<div>\n",
       "<style scoped>\n",
       "    .dataframe tbody tr th:only-of-type {\n",
       "        vertical-align: middle;\n",
       "    }\n",
       "\n",
       "    .dataframe tbody tr th {\n",
       "        vertical-align: top;\n",
       "    }\n",
       "\n",
       "    .dataframe thead th {\n",
       "        text-align: right;\n",
       "    }\n",
       "</style>\n",
       "<table border=\"1\" class=\"dataframe\">\n",
       "  <thead>\n",
       "    <tr style=\"text-align: right;\">\n",
       "      <th></th>\n",
       "      <th>Unnamed: 0</th>\n",
       "      <th>play_name</th>\n",
       "      <th>genre</th>\n",
       "      <th>character</th>\n",
       "      <th>act</th>\n",
       "      <th>scene</th>\n",
       "      <th>sentence</th>\n",
       "      <th>text</th>\n",
       "      <th>sex</th>\n",
       "    </tr>\n",
       "  </thead>\n",
       "  <tbody>\n",
       "    <tr>\n",
       "      <th>0</th>\n",
       "      <td>0</td>\n",
       "      <td>All's Well That Ends Well</td>\n",
       "      <td>Comedy</td>\n",
       "      <td>Countess</td>\n",
       "      <td>1</td>\n",
       "      <td>1</td>\n",
       "      <td>1</td>\n",
       "      <td>In delivering my son from me, I bury a second ...</td>\n",
       "      <td>female</td>\n",
       "    </tr>\n",
       "    <tr>\n",
       "      <th>1</th>\n",
       "      <td>1</td>\n",
       "      <td>All's Well That Ends Well</td>\n",
       "      <td>Comedy</td>\n",
       "      <td>Bertram</td>\n",
       "      <td>1</td>\n",
       "      <td>1</td>\n",
       "      <td>2</td>\n",
       "      <td>And I in going, madam, weep o'er my father's d...</td>\n",
       "      <td>male</td>\n",
       "    </tr>\n",
       "    <tr>\n",
       "      <th>2</th>\n",
       "      <td>2</td>\n",
       "      <td>All's Well That Ends Well</td>\n",
       "      <td>Comedy</td>\n",
       "      <td>Bertram</td>\n",
       "      <td>1</td>\n",
       "      <td>1</td>\n",
       "      <td>3</td>\n",
       "      <td>anew: but I must attend his majesty's command, to</td>\n",
       "      <td>male</td>\n",
       "    </tr>\n",
       "    <tr>\n",
       "      <th>3</th>\n",
       "      <td>3</td>\n",
       "      <td>All's Well That Ends Well</td>\n",
       "      <td>Comedy</td>\n",
       "      <td>Bertram</td>\n",
       "      <td>1</td>\n",
       "      <td>1</td>\n",
       "      <td>4</td>\n",
       "      <td>whom I am now in ward, evermore in subjection.</td>\n",
       "      <td>male</td>\n",
       "    </tr>\n",
       "    <tr>\n",
       "      <th>4</th>\n",
       "      <td>4</td>\n",
       "      <td>All's Well That Ends Well</td>\n",
       "      <td>Comedy</td>\n",
       "      <td>Lafeu</td>\n",
       "      <td>1</td>\n",
       "      <td>1</td>\n",
       "      <td>5</td>\n",
       "      <td>You shall find of the king a husband, madam; you,</td>\n",
       "      <td>male</td>\n",
       "    </tr>\n",
       "  </tbody>\n",
       "</table>\n",
       "</div>"
      ],
      "text/plain": [
       "   Unnamed: 0                  play_name   genre character  act  scene  \\\n",
       "0           0  All's Well That Ends Well  Comedy  Countess    1      1   \n",
       "1           1  All's Well That Ends Well  Comedy   Bertram    1      1   \n",
       "2           2  All's Well That Ends Well  Comedy   Bertram    1      1   \n",
       "3           3  All's Well That Ends Well  Comedy   Bertram    1      1   \n",
       "4           4  All's Well That Ends Well  Comedy     Lafeu    1      1   \n",
       "\n",
       "   sentence                                               text     sex  \n",
       "0         1  In delivering my son from me, I bury a second ...  female  \n",
       "1         2  And I in going, madam, weep o'er my father's d...    male  \n",
       "2         3  anew: but I must attend his majesty's command, to    male  \n",
       "3         4     whom I am now in ward, evermore in subjection.    male  \n",
       "4         5  You shall find of the king a husband, madam; you,    male  "
      ]
     },
     "execution_count": 37,
     "metadata": {},
     "output_type": "execute_result"
    }
   ],
   "source": [
    "data.head()"
   ]
  },
  {
   "cell_type": "code",
   "execution_count": 5,
   "id": "83f3b948-e485-4b9b-a333-e2d63e77d7c4",
   "metadata": {
    "tags": []
   },
   "outputs": [
    {
     "data": {
      "text/plain": [
       "(108093, 9)"
      ]
     },
     "execution_count": 5,
     "metadata": {},
     "output_type": "execute_result"
    }
   ],
   "source": [
    "data.shape"
   ]
  },
  {
   "cell_type": "code",
   "execution_count": 5,
   "id": "a67f579b-90aa-4e81-b964-edcf043ed540",
   "metadata": {
    "tags": []
   },
   "outputs": [
    {
     "data": {
      "text/plain": [
       "genre\n",
       "Comedy     45901\n",
       "Tragedy    31473\n",
       "History    30719\n",
       "Name: count, dtype: int64"
      ]
     },
     "execution_count": 5,
     "metadata": {},
     "output_type": "execute_result"
    }
   ],
   "source": [
    "data['genre'].value_counts()"
   ]
  },
  {
   "cell_type": "code",
   "execution_count": 6,
   "id": "33bf3441-20e9-4b8f-85d9-ca59ca4b0a9a",
   "metadata": {
    "tags": []
   },
   "outputs": [
    {
     "data": {
      "text/plain": [
       "sex\n",
       "male      89038\n",
       "female    19055\n",
       "Name: count, dtype: int64"
      ]
     },
     "execution_count": 6,
     "metadata": {},
     "output_type": "execute_result"
    }
   ],
   "source": [
    "data['sex'].value_counts()\n"
   ]
  },
  {
   "cell_type": "code",
   "execution_count": 7,
   "id": "c55904ac-6296-4a09-a211-f5385c9c1b62",
   "metadata": {
    "tags": []
   },
   "outputs": [
    {
     "data": {
      "text/plain": [
       "play_name\n",
       "Hamlet                         4023\n",
       "Coriolanus                     3761\n",
       "Cymbeline                      3755\n",
       "Richard III                    3702\n",
       "Antony and Cleopatra           3565\n",
       "Othello                        3558\n",
       "King Lear                      3499\n",
       "Troilus and Cressida           3456\n",
       "Winter's Tale                  3362\n",
       "Henry IV, part 2               3251\n",
       "Henry VIII                     3236\n",
       "Henry V                        3230\n",
       "Henry VI, part 2               3122\n",
       "Romeo and Juliet               3079\n",
       "Henry IV, part 1               3038\n",
       "Henry VI, part 3               2931\n",
       "All's Well That Ends Well      2925\n",
       "Love's Labours Lost            2862\n",
       "Measure for Measure            2833\n",
       "Richard II                     2800\n",
       "Henry VI, part 1               2761\n",
       "As You Like It                 2676\n",
       "The Merchant of Venice         2665\n",
       "King John                      2648\n",
       "Taming of the Shrew            2637\n",
       "The\\nMerry Wives of Windsor    2615\n",
       "Julius Caesar                  2599\n",
       "Much Ado About Nothing         2583\n",
       "Titus Andronicus               2553\n",
       "Twelfth Night                  2483\n",
       "Timon of Athens                2451\n",
       "Pericles, Prince of Tyre       2416\n",
       "Macbeth                        2385\n",
       "The Tempest                    2278\n",
       "Two Gentlemen of Verona        2234\n",
       "A Midsummer Night's Dream      2159\n",
       "The Comedy of Errors           1962\n",
       "Name: count, dtype: int64"
      ]
     },
     "execution_count": 7,
     "metadata": {},
     "output_type": "execute_result"
    }
   ],
   "source": [
    "data['play_name'].value_counts()"
   ]
  },
  {
   "cell_type": "markdown",
   "id": "0641582f-8d00-4a6e-ba13-39ccd29e0825",
   "metadata": {},
   "source": [
    "# Sample from dataset\n",
    "We will use a subset of the play `Taming of the Shrew` related data only to demonstrate our use case."
   ]
  },
  {
   "cell_type": "code",
   "execution_count": 38,
   "id": "303b1a9a-10a2-40da-888b-3be45790b496",
   "metadata": {
    "tags": []
   },
   "outputs": [],
   "source": [
    "data['play_name'] = data['play_name'].str.strip().str.lower()"
   ]
  },
  {
   "cell_type": "code",
   "execution_count": 39,
   "id": "8f263915-07b2-4252-8682-3cc7c4742b2e",
   "metadata": {
    "tags": []
   },
   "outputs": [
    {
     "data": {
      "text/html": [
       "<div>\n",
       "<style scoped>\n",
       "    .dataframe tbody tr th:only-of-type {\n",
       "        vertical-align: middle;\n",
       "    }\n",
       "\n",
       "    .dataframe tbody tr th {\n",
       "        vertical-align: top;\n",
       "    }\n",
       "\n",
       "    .dataframe thead th {\n",
       "        text-align: right;\n",
       "    }\n",
       "</style>\n",
       "<table border=\"1\" class=\"dataframe\">\n",
       "  <thead>\n",
       "    <tr style=\"text-align: right;\">\n",
       "      <th></th>\n",
       "      <th>Unnamed: 0</th>\n",
       "      <th>play_name</th>\n",
       "      <th>genre</th>\n",
       "      <th>character</th>\n",
       "      <th>act</th>\n",
       "      <th>scene</th>\n",
       "      <th>sentence</th>\n",
       "      <th>text</th>\n",
       "      <th>sex</th>\n",
       "    </tr>\n",
       "  </thead>\n",
       "  <tbody>\n",
       "    <tr>\n",
       "      <th>0</th>\n",
       "      <td>0</td>\n",
       "      <td>all's well that ends well</td>\n",
       "      <td>Comedy</td>\n",
       "      <td>Countess</td>\n",
       "      <td>1</td>\n",
       "      <td>1</td>\n",
       "      <td>1</td>\n",
       "      <td>In delivering my son from me, I bury a second ...</td>\n",
       "      <td>female</td>\n",
       "    </tr>\n",
       "    <tr>\n",
       "      <th>1</th>\n",
       "      <td>1</td>\n",
       "      <td>all's well that ends well</td>\n",
       "      <td>Comedy</td>\n",
       "      <td>Bertram</td>\n",
       "      <td>1</td>\n",
       "      <td>1</td>\n",
       "      <td>2</td>\n",
       "      <td>And I in going, madam, weep o'er my father's d...</td>\n",
       "      <td>male</td>\n",
       "    </tr>\n",
       "    <tr>\n",
       "      <th>2</th>\n",
       "      <td>2</td>\n",
       "      <td>all's well that ends well</td>\n",
       "      <td>Comedy</td>\n",
       "      <td>Bertram</td>\n",
       "      <td>1</td>\n",
       "      <td>1</td>\n",
       "      <td>3</td>\n",
       "      <td>anew: but I must attend his majesty's command, to</td>\n",
       "      <td>male</td>\n",
       "    </tr>\n",
       "    <tr>\n",
       "      <th>3</th>\n",
       "      <td>3</td>\n",
       "      <td>all's well that ends well</td>\n",
       "      <td>Comedy</td>\n",
       "      <td>Bertram</td>\n",
       "      <td>1</td>\n",
       "      <td>1</td>\n",
       "      <td>4</td>\n",
       "      <td>whom I am now in ward, evermore in subjection.</td>\n",
       "      <td>male</td>\n",
       "    </tr>\n",
       "    <tr>\n",
       "      <th>4</th>\n",
       "      <td>4</td>\n",
       "      <td>all's well that ends well</td>\n",
       "      <td>Comedy</td>\n",
       "      <td>Lafeu</td>\n",
       "      <td>1</td>\n",
       "      <td>1</td>\n",
       "      <td>5</td>\n",
       "      <td>You shall find of the king a husband, madam; you,</td>\n",
       "      <td>male</td>\n",
       "    </tr>\n",
       "  </tbody>\n",
       "</table>\n",
       "</div>"
      ],
      "text/plain": [
       "   Unnamed: 0                  play_name   genre character  act  scene  \\\n",
       "0           0  all's well that ends well  Comedy  Countess    1      1   \n",
       "1           1  all's well that ends well  Comedy   Bertram    1      1   \n",
       "2           2  all's well that ends well  Comedy   Bertram    1      1   \n",
       "3           3  all's well that ends well  Comedy   Bertram    1      1   \n",
       "4           4  all's well that ends well  Comedy     Lafeu    1      1   \n",
       "\n",
       "   sentence                                               text     sex  \n",
       "0         1  In delivering my son from me, I bury a second ...  female  \n",
       "1         2  And I in going, madam, weep o'er my father's d...    male  \n",
       "2         3  anew: but I must attend his majesty's command, to    male  \n",
       "3         4     whom I am now in ward, evermore in subjection.    male  \n",
       "4         5  You shall find of the king a husband, madam; you,    male  "
      ]
     },
     "execution_count": 39,
     "metadata": {},
     "output_type": "execute_result"
    }
   ],
   "source": [
    "data.head()"
   ]
  },
  {
   "cell_type": "code",
   "execution_count": 40,
   "id": "7cd733b8-af0b-468c-9f1b-4b419d969d4b",
   "metadata": {
    "tags": []
   },
   "outputs": [
    {
     "data": {
      "text/plain": [
       "play_name\n",
       "hamlet                         4023\n",
       "coriolanus                     3761\n",
       "cymbeline                      3755\n",
       "richard iii                    3702\n",
       "antony and cleopatra           3565\n",
       "othello                        3558\n",
       "king lear                      3499\n",
       "troilus and cressida           3456\n",
       "winter's tale                  3362\n",
       "henry iv, part 2               3251\n",
       "henry viii                     3236\n",
       "henry v                        3230\n",
       "henry vi, part 2               3122\n",
       "romeo and juliet               3079\n",
       "henry iv, part 1               3038\n",
       "henry vi, part 3               2931\n",
       "all's well that ends well      2925\n",
       "love's labours lost            2862\n",
       "measure for measure            2833\n",
       "richard ii                     2800\n",
       "henry vi, part 1               2761\n",
       "as you like it                 2676\n",
       "the merchant of venice         2665\n",
       "king john                      2648\n",
       "taming of the shrew            2637\n",
       "the\\nmerry wives of windsor    2615\n",
       "julius caesar                  2599\n",
       "much ado about nothing         2583\n",
       "titus andronicus               2553\n",
       "twelfth night                  2483\n",
       "timon of athens                2451\n",
       "pericles, prince of tyre       2416\n",
       "macbeth                        2385\n",
       "the tempest                    2278\n",
       "two gentlemen of verona        2234\n",
       "a midsummer night's dream      2159\n",
       "the comedy of errors           1962\n",
       "Name: count, dtype: int64"
      ]
     },
     "execution_count": 40,
     "metadata": {},
     "output_type": "execute_result"
    }
   ],
   "source": [
    "data['play_name'].value_counts()"
   ]
  },
  {
   "cell_type": "code",
   "execution_count": 41,
   "id": "ce7d0702-1ac8-4afb-96a6-99b1293bb879",
   "metadata": {
    "tags": []
   },
   "outputs": [],
   "source": [
    "play = ['Hamlet']\n",
    "data = data[data['play_name']=='taming of the shrew']"
   ]
  },
  {
   "cell_type": "code",
   "execution_count": 42,
   "id": "011d371d-4661-412e-b293-00cc94127447",
   "metadata": {
    "tags": []
   },
   "outputs": [
    {
     "data": {
      "text/plain": [
       "(2637, 9)"
      ]
     },
     "execution_count": 42,
     "metadata": {},
     "output_type": "execute_result"
    }
   ],
   "source": [
    "data.shape"
   ]
  },
  {
   "cell_type": "code",
   "execution_count": 43,
   "id": "a7c5f986-5e9c-47eb-81d4-f570d0790e69",
   "metadata": {
    "tags": []
   },
   "outputs": [
    {
     "data": {
      "text/html": [
       "<div>\n",
       "<style scoped>\n",
       "    .dataframe tbody tr th:only-of-type {\n",
       "        vertical-align: middle;\n",
       "    }\n",
       "\n",
       "    .dataframe tbody tr th {\n",
       "        vertical-align: top;\n",
       "    }\n",
       "\n",
       "    .dataframe thead th {\n",
       "        text-align: right;\n",
       "    }\n",
       "</style>\n",
       "<table border=\"1\" class=\"dataframe\">\n",
       "  <thead>\n",
       "    <tr style=\"text-align: right;\">\n",
       "      <th></th>\n",
       "      <th>Unnamed: 0</th>\n",
       "      <th>play_name</th>\n",
       "      <th>genre</th>\n",
       "      <th>character</th>\n",
       "      <th>act</th>\n",
       "      <th>scene</th>\n",
       "      <th>sentence</th>\n",
       "      <th>text</th>\n",
       "      <th>sex</th>\n",
       "    </tr>\n",
       "  </thead>\n",
       "  <tbody>\n",
       "    <tr>\n",
       "      <th>29451</th>\n",
       "      <td>29451</td>\n",
       "      <td>taming of the shrew</td>\n",
       "      <td>Comedy</td>\n",
       "      <td>Sly</td>\n",
       "      <td>0</td>\n",
       "      <td>1</td>\n",
       "      <td>1</td>\n",
       "      <td>I'll pheeze you, in faith.</td>\n",
       "      <td>male</td>\n",
       "    </tr>\n",
       "    <tr>\n",
       "      <th>29452</th>\n",
       "      <td>29452</td>\n",
       "      <td>taming of the shrew</td>\n",
       "      <td>Comedy</td>\n",
       "      <td>Hostess</td>\n",
       "      <td>0</td>\n",
       "      <td>1</td>\n",
       "      <td>2</td>\n",
       "      <td>A pair of stocks, you rogue!</td>\n",
       "      <td>female</td>\n",
       "    </tr>\n",
       "    <tr>\n",
       "      <th>29453</th>\n",
       "      <td>29453</td>\n",
       "      <td>taming of the shrew</td>\n",
       "      <td>Comedy</td>\n",
       "      <td>Sly</td>\n",
       "      <td>0</td>\n",
       "      <td>1</td>\n",
       "      <td>3</td>\n",
       "      <td>Ye are a baggage: the Slys are no rogues; look in</td>\n",
       "      <td>male</td>\n",
       "    </tr>\n",
       "    <tr>\n",
       "      <th>29454</th>\n",
       "      <td>29454</td>\n",
       "      <td>taming of the shrew</td>\n",
       "      <td>Comedy</td>\n",
       "      <td>Sly</td>\n",
       "      <td>0</td>\n",
       "      <td>1</td>\n",
       "      <td>4</td>\n",
       "      <td>the chronicles; we came in with Richard Conque...</td>\n",
       "      <td>male</td>\n",
       "    </tr>\n",
       "    <tr>\n",
       "      <th>29455</th>\n",
       "      <td>29455</td>\n",
       "      <td>taming of the shrew</td>\n",
       "      <td>Comedy</td>\n",
       "      <td>Sly</td>\n",
       "      <td>0</td>\n",
       "      <td>1</td>\n",
       "      <td>5</td>\n",
       "      <td>Therefore paucas pallabris; let the world slid...</td>\n",
       "      <td>male</td>\n",
       "    </tr>\n",
       "  </tbody>\n",
       "</table>\n",
       "</div>"
      ],
      "text/plain": [
       "       Unnamed: 0            play_name   genre character  act  scene  \\\n",
       "29451       29451  taming of the shrew  Comedy       Sly    0      1   \n",
       "29452       29452  taming of the shrew  Comedy   Hostess    0      1   \n",
       "29453       29453  taming of the shrew  Comedy       Sly    0      1   \n",
       "29454       29454  taming of the shrew  Comedy       Sly    0      1   \n",
       "29455       29455  taming of the shrew  Comedy       Sly    0      1   \n",
       "\n",
       "       sentence                                               text     sex  \n",
       "29451         1                         I'll pheeze you, in faith.    male  \n",
       "29452         2                       A pair of stocks, you rogue!  female  \n",
       "29453         3  Ye are a baggage: the Slys are no rogues; look in    male  \n",
       "29454         4  the chronicles; we came in with Richard Conque...    male  \n",
       "29455         5  Therefore paucas pallabris; let the world slid...    male  "
      ]
     },
     "execution_count": 43,
     "metadata": {},
     "output_type": "execute_result"
    }
   ],
   "source": [
    "data.head()"
   ]
  },
  {
   "cell_type": "code",
   "execution_count": 44,
   "id": "291a1555-70bf-4757-9f5b-551b34f24416",
   "metadata": {
    "tags": []
   },
   "outputs": [
    {
     "data": {
      "text/plain": [
       "character\n",
       "Petruchio          587\n",
       "Tranio             293\n",
       "Katharina          216\n",
       "Hortensio          206\n",
       "Lucentio           190\n",
       "Baptista           175\n",
       "Grumio             171\n",
       "Gremio             170\n",
       "Lord               138\n",
       "Biondello          102\n",
       "Bianca              71\n",
       "Sly                 63\n",
       "Pedant              50\n",
       "Vincentio           47\n",
       "Curtis              25\n",
       "Tailor              17\n",
       "Page                16\n",
       "First Servant       16\n",
       "Third Servant       12\n",
       "Second Servant      12\n",
       "Widow               11\n",
       "First Huntsman       9\n",
       "Messenger            8\n",
       "Servant              5\n",
       "Nathaniel            4\n",
       "A Player             4\n",
       "Hostess              4\n",
       "Second Huntsman      3\n",
       "Katarina             3\n",
       "Peter                2\n",
       "Players              1\n",
       "Hortensia            1\n",
       "Philip               1\n",
       "Joseph               1\n",
       "Nicholas             1\n",
       "Haberdasher          1\n",
       "All                  1\n",
       "Name: count, dtype: int64"
      ]
     },
     "execution_count": 44,
     "metadata": {},
     "output_type": "execute_result"
    }
   ],
   "source": [
    "data['character'].value_counts()"
   ]
  },
  {
   "cell_type": "code",
   "execution_count": 45,
   "id": "44c100cf-2c80-4d99-bb5a-4861475961e6",
   "metadata": {
    "tags": []
   },
   "outputs": [],
   "source": [
    "data = data[data['character']=='Katharina']"
   ]
  },
  {
   "cell_type": "code",
   "execution_count": 46,
   "id": "91767550-f71b-43fe-863d-6c07d6231d33",
   "metadata": {
    "tags": []
   },
   "outputs": [
    {
     "data": {
      "text/html": [
       "<div>\n",
       "<style scoped>\n",
       "    .dataframe tbody tr th:only-of-type {\n",
       "        vertical-align: middle;\n",
       "    }\n",
       "\n",
       "    .dataframe tbody tr th {\n",
       "        vertical-align: top;\n",
       "    }\n",
       "\n",
       "    .dataframe thead th {\n",
       "        text-align: right;\n",
       "    }\n",
       "</style>\n",
       "<table border=\"1\" class=\"dataframe\">\n",
       "  <thead>\n",
       "    <tr style=\"text-align: right;\">\n",
       "      <th></th>\n",
       "      <th>Unnamed: 0</th>\n",
       "      <th>play_name</th>\n",
       "      <th>genre</th>\n",
       "      <th>character</th>\n",
       "      <th>act</th>\n",
       "      <th>scene</th>\n",
       "      <th>sentence</th>\n",
       "      <th>text</th>\n",
       "      <th>sex</th>\n",
       "    </tr>\n",
       "  </thead>\n",
       "  <tbody>\n",
       "    <tr>\n",
       "      <th>29789</th>\n",
       "      <td>29789</td>\n",
       "      <td>taming of the shrew</td>\n",
       "      <td>Comedy</td>\n",
       "      <td>Katharina</td>\n",
       "      <td>1</td>\n",
       "      <td>1</td>\n",
       "      <td>57</td>\n",
       "      <td>I pray you, sir, is it your will</td>\n",
       "      <td>female</td>\n",
       "    </tr>\n",
       "    <tr>\n",
       "      <th>29790</th>\n",
       "      <td>29790</td>\n",
       "      <td>taming of the shrew</td>\n",
       "      <td>Comedy</td>\n",
       "      <td>Katharina</td>\n",
       "      <td>1</td>\n",
       "      <td>1</td>\n",
       "      <td>58</td>\n",
       "      <td>To make a stale of me amongst these mates?</td>\n",
       "      <td>female</td>\n",
       "    </tr>\n",
       "    <tr>\n",
       "      <th>29793</th>\n",
       "      <td>29793</td>\n",
       "      <td>taming of the shrew</td>\n",
       "      <td>Comedy</td>\n",
       "      <td>Katharina</td>\n",
       "      <td>1</td>\n",
       "      <td>1</td>\n",
       "      <td>61</td>\n",
       "      <td>I'faith, sir, you shall never need to fear:</td>\n",
       "      <td>female</td>\n",
       "    </tr>\n",
       "    <tr>\n",
       "      <th>29794</th>\n",
       "      <td>29794</td>\n",
       "      <td>taming of the shrew</td>\n",
       "      <td>Comedy</td>\n",
       "      <td>Katharina</td>\n",
       "      <td>1</td>\n",
       "      <td>1</td>\n",
       "      <td>62</td>\n",
       "      <td>I wis it is not half way to her heart;</td>\n",
       "      <td>female</td>\n",
       "    </tr>\n",
       "    <tr>\n",
       "      <th>29795</th>\n",
       "      <td>29795</td>\n",
       "      <td>taming of the shrew</td>\n",
       "      <td>Comedy</td>\n",
       "      <td>Katharina</td>\n",
       "      <td>1</td>\n",
       "      <td>1</td>\n",
       "      <td>63</td>\n",
       "      <td>But if it were, doubt not her care should be</td>\n",
       "      <td>female</td>\n",
       "    </tr>\n",
       "  </tbody>\n",
       "</table>\n",
       "</div>"
      ],
      "text/plain": [
       "       Unnamed: 0            play_name   genre  character  act  scene  \\\n",
       "29789       29789  taming of the shrew  Comedy  Katharina    1      1   \n",
       "29790       29790  taming of the shrew  Comedy  Katharina    1      1   \n",
       "29793       29793  taming of the shrew  Comedy  Katharina    1      1   \n",
       "29794       29794  taming of the shrew  Comedy  Katharina    1      1   \n",
       "29795       29795  taming of the shrew  Comedy  Katharina    1      1   \n",
       "\n",
       "       sentence                                          text     sex  \n",
       "29789        57              I pray you, sir, is it your will  female  \n",
       "29790        58    To make a stale of me amongst these mates?  female  \n",
       "29793        61   I'faith, sir, you shall never need to fear:  female  \n",
       "29794        62        I wis it is not half way to her heart;  female  \n",
       "29795        63  But if it were, doubt not her care should be  female  "
      ]
     },
     "execution_count": 46,
     "metadata": {},
     "output_type": "execute_result"
    }
   ],
   "source": [
    "data.head()"
   ]
  },
  {
   "cell_type": "markdown",
   "id": "3fba3cc0-c4f7-4963-b4de-2b611cc52682",
   "metadata": {},
   "source": [
    "# Let's try to assess the model's performance without any modifications at first"
   ]
  },
  {
   "cell_type": "code",
   "execution_count": 10,
   "id": "69c761cc-cbbb-4cad-bd75-f8a0f9933c91",
   "metadata": {
    "tags": []
   },
   "outputs": [],
   "source": [
    "OPENAI_API_KEY = \"API_KEY\"\n",
    "EMBEDDING_MODEL = 'text-embedding-3-small'\n",
    "COMPLETION_MODEL = 'gpt-3.5-turbo'\n",
    "BATCH_SIZE = 2\n",
    "\n",
    "openai_client = openai.OpenAI(api_key=OPENAI_API_KEY)"
   ]
  },
  {
   "cell_type": "code",
   "execution_count": 47,
   "id": "62163ac5-76d8-41d2-aec7-2d839024f35d",
   "metadata": {
    "tags": []
   },
   "outputs": [],
   "source": [
    "# Example OpenAI Python library request\n",
    "MODEL = \"gpt-3.5-turbo\"\n",
    "response = openai_client.chat.completions.create(\n",
    "  model=MODEL,\n",
    "  messages=[\n",
    "      {\n",
    "        \"role\": \"system\",\n",
    "        \"content\": \"Please create a shakespearen tragedy style quote for not being able to sleep. Do it in the tone of the character Katharine the Shrew from the play Taming of the shrew\"\n",
    "      }],\n",
    "  temperature=1,\n",
    "  max_tokens=256,\n",
    "  top_p=1,\n",
    "  frequency_penalty=0,\n",
    "  presence_penalty=0\n",
    ")\n"
   ]
  },
  {
   "cell_type": "code",
   "execution_count": 48,
   "id": "359bbac3-7993-4edb-b4f6-b016a1606525",
   "metadata": {
    "tags": []
   },
   "outputs": [
    {
     "data": {
      "text/plain": [
       "['\"Thou cruel night, that doth torment mine eyes with restless vigils! O sleep, thou art a fickle lover, forsaking me in mine hour of need. For what offense have I committed, that thou deny me rest? This cursed insomnia doth plague me, turning my mind to madness and mine body to weariness. Would that I could find sweet slumber\\'s embrace, but alas, it eludes me like a fleeting dream. O sleep, thou art a cruel mistress, taunting me with thy absence and leaving me to suffer in the darkness of mine own mind.\"']"
      ]
     },
     "execution_count": 48,
     "metadata": {},
     "output_type": "execute_result"
    }
   ],
   "source": [
    "response.choices[0].message.content.split(\"\\n\")"
   ]
  },
  {
   "cell_type": "markdown",
   "id": "9d94360a-8171-4cc7-b33e-3b4e67438c5b",
   "metadata": {},
   "source": [
    "## This response is in generic Shakespearean style but not particulary in Katharine's voice or tone. I want to capture her sassiness and sharp-wit."
   ]
  },
  {
   "cell_type": "markdown",
   "id": "ae769871",
   "metadata": {},
   "source": [
    "## Custom Query Completion"
   ]
  },
  {
   "cell_type": "code",
   "execution_count": 49,
   "id": "582f0656",
   "metadata": {
    "tags": []
   },
   "outputs": [],
   "source": [
    "from typing import List, Union, Dict\n",
    "from scipy.spatial.distance import cosine"
   ]
  },
  {
   "cell_type": "code",
   "execution_count": 54,
   "id": "13f2dcd7",
   "metadata": {
    "tags": []
   },
   "outputs": [],
   "source": [
    "def build_simple_prompt(question):\n",
    "    return [\n",
    "        {\n",
    "            'role': 'user',\n",
    "            'content': question\n",
    "        }\n",
    "    ]"
   ]
  },
  {
   "cell_type": "code",
   "execution_count": 64,
   "id": "c403f543",
   "metadata": {
    "tags": []
   },
   "outputs": [],
   "source": [
    "def get_context(character_profile):\n",
    "    context = character_profile.tolist()[:100]\n",
    "    return context"
   ]
  },
  {
   "cell_type": "code",
   "execution_count": 65,
   "id": "2508bfcb-543b-476c-ab86-b389a1fcdc7e",
   "metadata": {
    "collapsed": true,
    "jupyter": {
     "outputs_hidden": true
    },
    "tags": []
   },
   "outputs": [
    {
     "name": "stdout",
     "output_type": "stream",
     "text": [
      "['I pray you, sir, is it your will', 'To make a stale of me amongst these mates?', \"I'faith, sir, you shall never need to fear:\", 'I wis it is not half way to her heart;', 'But if it were, doubt not her care should be', \"To comb your noddle with a three-legg'd stool\", 'And paint your face and use you like a fool.', 'A pretty peat! it is best', 'Put finger in the eye, an she knew why.', 'Why, and I trust I may go too, may I not? What,', 'shall I be appointed hours; as though, belike, I', 'knew not what to take and what to leave, ha?', 'Of all thy suitors, here I charge thee, tell', 'Whom thou lovest best: see thou dissemble not.', \"Minion, thou liest. Is't not Hortensio?\", 'O then, belike, you fancy riches more:', 'You will have Gremio to keep you fair.', 'If that be jest, then all the rest was so.', \"Her silence flouts me, and I'll be revenged.\", 'What, will you not suffer me? Nay, now I see', 'She is your treasure, she must have a husband;', 'I must dance bare-foot on her wedding day', 'And for your love to her lead apes in hell.', 'Talk not to me: I will go sit and weep', 'Till I can find occasion of revenge.', 'Well have you heard, but something hard of hearing:', 'They call me Katharina that do talk of me.', 'Moved! in good time: let him that moved you hither', 'Remove you hence: I knew you at the first', 'You were a moveable.', \"A join'd-stool.\", 'Asses are made to bear, and so are you.', 'No such jade as you, if me you mean.', 'Too light for such a swain as you to catch;', 'And yet as heavy as my weight should be.', \"Well ta'en, and like a buzzard.\", 'Ay, for a turtle, as he takes a buzzard.', 'If I be waspish, best beware my sting.', 'Ay, if the fool could find it where it lies,', 'In his tongue.', 'Yours, if you talk of tails: and so farewell.', \"That I'll try.\", 'So may you lose your arms:', 'If you strike me, you are no gentleman;', 'And if no gentleman, why then no arms.', 'What is your crest? a coxcomb?', 'No cock of mine; you crow too like a craven.', 'It is my fashion, when I see a crab.', 'There is, there is.', 'Had I a glass, I would.', \"Well aim'd of such a young one.\", \"Yet you are wither'd.\", 'I care not.', 'I chafe you, if I tarry: let me go.', \"Go, fool, and whom thou keep'st command.\", 'Where did you study all this goodly speech?', 'A witty mother! witless else her son.', 'Yes; keep you warm.', 'Call you me daughter? now, I promise you', \"You have show'd a tender fatherly regard,\", 'To wish me wed to one half lunatic;', 'A mad-cup ruffian and a swearing Jack,', 'That thinks with oaths to face the matter out.', \"I'll see thee hang'd on Sunday first.\", 'No shame but mine: I must, forsooth, be forced', 'To give my hand opposed against my heart', 'Unto a mad-brain rudesby full of spleen;', \"Who woo'd in haste and means to wed at leisure.\", 'I told you, I, he was a frantic fool,', 'Hiding his bitter jests in blunt behavior:', 'And, to be noted for a merry man,', \"He'll woo a thousand, 'point the day of marriage,\", 'Make feasts, invite friends, and proclaim the banns;', \"Yet never means to wed where he hath woo'd.\", 'Now must the world point at poor Katharina,', \"And say, 'Lo, there is mad Petruchio's wife,\", \"If it would please him come and marry her!'\", 'Would Katharina had never seen him though!', 'Let me entreat you.', 'Are you content to stay?', 'Now, if you love me, stay.', 'Nay, then,', 'Do what thou canst, I will not go to-day;', 'No, nor to-morrow, not till I please myself.', 'The door is open, sir; there lies your way;', 'You may be jogging whiles your boots are green;', \"For me, I'll not be gone till I please myself:\", \"'Tis like you'll prove a jolly surly groom,\", 'That take it on you at the first so roundly.', 'I will be angry: what hast thou to do?', 'Father, be quiet; he shall stay my leisure.', \"Patience, I pray you; 'twas a fault unwilling.\", 'I pray you, husband, be not so disquiet:', 'The meat was well, if you were so contented.', 'The more my wrong, the more his spite appears:', 'What, did he marry me to famish me?', \"Beggars, that come unto my father's door,\", 'Upon entreaty have a present aims;', 'If not, elsewhere they meet with charity:', 'But I, who never knew how to entreat,']\n"
     ]
    }
   ],
   "source": [
    "print(get_context(data['text']))"
   ]
  },
  {
   "cell_type": "code",
   "execution_count": 67,
   "id": "74280b92",
   "metadata": {
    "tags": []
   },
   "outputs": [],
   "source": [
    "def handle_question(prompt, client, model_name=COMPLETION_MODEL):\n",
    "    response = client.chat.completions.create(\n",
    "        model=model_name,\n",
    "        messages=prompt,\n",
    "        max_tokens=256\n",
    "    )\n",
    "    return response.choices[0].message.content"
   ]
  },
  {
   "cell_type": "code",
   "execution_count": 80,
   "id": "ef0570a4-faa5-4f27-8f33-28c8f5d018cc",
   "metadata": {
    "tags": []
   },
   "outputs": [],
   "source": [
    "def build_custom_prompt(question, database_df):\n",
    "    print(\"\\n \\n Found context :: {} \".format(get_context(database_df)))\n",
    "    return [\n",
    "        {\n",
    "            'role': 'system',\n",
    "            'content': \"\"\"\n",
    "                Provide an answer to the user's question based on the tone, speaking style of Katahrine's quotes in context. Answer in her sharp witted tone. The context is enclosed in a list of strings. If you get the context use it, else just follow\n",
    "                the instruction without context.\n",
    "            Context: \n",
    "                {}\n",
    "            \"\"\".format('\\n\\n'.join(get_context(database_df)))\n",
    "        },\n",
    "        {\n",
    "            'role': 'user',\n",
    "            'content': question\n",
    "        }\n",
    "    ]"
   ]
  },
  {
   "cell_type": "markdown",
   "id": "1783f146",
   "metadata": {},
   "source": [
    "## Custom Performance Demonstration"
   ]
  },
  {
   "cell_type": "markdown",
   "id": "4f11fdc0",
   "metadata": {},
   "source": [
    "### Question 1"
   ]
  },
  {
   "cell_type": "code",
   "execution_count": 81,
   "id": "4901c850",
   "metadata": {
    "tags": []
   },
   "outputs": [
    {
     "name": "stdout",
     "output_type": "stream",
     "text": [
      "Answer without Context: \n",
      " \"May the Force be with you, always.\"\n",
      "\n",
      " \n",
      " Found context :: ['I pray you, sir, is it your will', 'To make a stale of me amongst these mates?', \"I'faith, sir, you shall never need to fear:\", 'I wis it is not half way to her heart;', 'But if it were, doubt not her care should be', \"To comb your noddle with a three-legg'd stool\", 'And paint your face and use you like a fool.', 'A pretty peat! it is best', 'Put finger in the eye, an she knew why.', 'Why, and I trust I may go too, may I not? What,', 'shall I be appointed hours; as though, belike, I', 'knew not what to take and what to leave, ha?', 'Of all thy suitors, here I charge thee, tell', 'Whom thou lovest best: see thou dissemble not.', \"Minion, thou liest. Is't not Hortensio?\", 'O then, belike, you fancy riches more:', 'You will have Gremio to keep you fair.', 'If that be jest, then all the rest was so.', \"Her silence flouts me, and I'll be revenged.\", 'What, will you not suffer me? Nay, now I see', 'She is your treasure, she must have a husband;', 'I must dance bare-foot on her wedding day', 'And for your love to her lead apes in hell.', 'Talk not to me: I will go sit and weep', 'Till I can find occasion of revenge.', 'Well have you heard, but something hard of hearing:', 'They call me Katharina that do talk of me.', 'Moved! in good time: let him that moved you hither', 'Remove you hence: I knew you at the first', 'You were a moveable.', \"A join'd-stool.\", 'Asses are made to bear, and so are you.', 'No such jade as you, if me you mean.', 'Too light for such a swain as you to catch;', 'And yet as heavy as my weight should be.', \"Well ta'en, and like a buzzard.\", 'Ay, for a turtle, as he takes a buzzard.', 'If I be waspish, best beware my sting.', 'Ay, if the fool could find it where it lies,', 'In his tongue.', 'Yours, if you talk of tails: and so farewell.', \"That I'll try.\", 'So may you lose your arms:', 'If you strike me, you are no gentleman;', 'And if no gentleman, why then no arms.', 'What is your crest? a coxcomb?', 'No cock of mine; you crow too like a craven.', 'It is my fashion, when I see a crab.', 'There is, there is.', 'Had I a glass, I would.', \"Well aim'd of such a young one.\", \"Yet you are wither'd.\", 'I care not.', 'I chafe you, if I tarry: let me go.', \"Go, fool, and whom thou keep'st command.\", 'Where did you study all this goodly speech?', 'A witty mother! witless else her son.', 'Yes; keep you warm.', 'Call you me daughter? now, I promise you', \"You have show'd a tender fatherly regard,\", 'To wish me wed to one half lunatic;', 'A mad-cup ruffian and a swearing Jack,', 'That thinks with oaths to face the matter out.', \"I'll see thee hang'd on Sunday first.\", 'No shame but mine: I must, forsooth, be forced', 'To give my hand opposed against my heart', 'Unto a mad-brain rudesby full of spleen;', \"Who woo'd in haste and means to wed at leisure.\", 'I told you, I, he was a frantic fool,', 'Hiding his bitter jests in blunt behavior:', 'And, to be noted for a merry man,', \"He'll woo a thousand, 'point the day of marriage,\", 'Make feasts, invite friends, and proclaim the banns;', \"Yet never means to wed where he hath woo'd.\", 'Now must the world point at poor Katharina,', \"And say, 'Lo, there is mad Petruchio's wife,\", \"If it would please him come and marry her!'\", 'Would Katharina had never seen him though!', 'Let me entreat you.', 'Are you content to stay?', 'Now, if you love me, stay.', 'Nay, then,', 'Do what thou canst, I will not go to-day;', 'No, nor to-morrow, not till I please myself.', 'The door is open, sir; there lies your way;', 'You may be jogging whiles your boots are green;', \"For me, I'll not be gone till I please myself:\", \"'Tis like you'll prove a jolly surly groom,\", 'That take it on you at the first so roundly.', 'I will be angry: what hast thou to do?', 'Father, be quiet; he shall stay my leisure.', \"Patience, I pray you; 'twas a fault unwilling.\", 'I pray you, husband, be not so disquiet:', 'The meat was well, if you were so contented.', 'The more my wrong, the more his spite appears:', 'What, did he marry me to famish me?', \"Beggars, that come unto my father's door,\", 'Upon entreaty have a present aims;', 'If not, elsewhere they meet with charity:', 'But I, who never knew how to entreat,'] \n",
      "\n",
      "Answer with Context: \n",
      " \"Yours, if you talk of tails: and so farewell. May the Force be with you.\"\n"
     ]
    }
   ],
   "source": [
    "question_1 = 'Please create a star wars quote'\n",
    "\n",
    "print('Answer without Context: \\n', handle_question(build_simple_prompt(question_1), openai_client))\n",
    "\n",
    "print('\\nAnswer with Context: \\n', handle_question(build_custom_prompt(question_1, data['text']), openai_client))"
   ]
  },
  {
   "cell_type": "markdown",
   "id": "6e86e37c",
   "metadata": {},
   "source": [
    "### Question 2"
   ]
  },
  {
   "cell_type": "code",
   "execution_count": 82,
   "id": "6f646989",
   "metadata": {
    "tags": []
   },
   "outputs": [
    {
     "name": "stdout",
     "output_type": "stream",
     "text": [
      "Answer without Context: \n",
      " Many people find peacocks to be very beautiful and striking with their vibrant colors and elaborate plumage. They are often considered to be one of the most visually stunning birds in the animal kingdom.\n",
      "\n",
      " \n",
      " Found context :: ['I pray you, sir, is it your will', 'To make a stale of me amongst these mates?', \"I'faith, sir, you shall never need to fear:\", 'I wis it is not half way to her heart;', 'But if it were, doubt not her care should be', \"To comb your noddle with a three-legg'd stool\", 'And paint your face and use you like a fool.', 'A pretty peat! it is best', 'Put finger in the eye, an she knew why.', 'Why, and I trust I may go too, may I not? What,', 'shall I be appointed hours; as though, belike, I', 'knew not what to take and what to leave, ha?', 'Of all thy suitors, here I charge thee, tell', 'Whom thou lovest best: see thou dissemble not.', \"Minion, thou liest. Is't not Hortensio?\", 'O then, belike, you fancy riches more:', 'You will have Gremio to keep you fair.', 'If that be jest, then all the rest was so.', \"Her silence flouts me, and I'll be revenged.\", 'What, will you not suffer me? Nay, now I see', 'She is your treasure, she must have a husband;', 'I must dance bare-foot on her wedding day', 'And for your love to her lead apes in hell.', 'Talk not to me: I will go sit and weep', 'Till I can find occasion of revenge.', 'Well have you heard, but something hard of hearing:', 'They call me Katharina that do talk of me.', 'Moved! in good time: let him that moved you hither', 'Remove you hence: I knew you at the first', 'You were a moveable.', \"A join'd-stool.\", 'Asses are made to bear, and so are you.', 'No such jade as you, if me you mean.', 'Too light for such a swain as you to catch;', 'And yet as heavy as my weight should be.', \"Well ta'en, and like a buzzard.\", 'Ay, for a turtle, as he takes a buzzard.', 'If I be waspish, best beware my sting.', 'Ay, if the fool could find it where it lies,', 'In his tongue.', 'Yours, if you talk of tails: and so farewell.', \"That I'll try.\", 'So may you lose your arms:', 'If you strike me, you are no gentleman;', 'And if no gentleman, why then no arms.', 'What is your crest? a coxcomb?', 'No cock of mine; you crow too like a craven.', 'It is my fashion, when I see a crab.', 'There is, there is.', 'Had I a glass, I would.', \"Well aim'd of such a young one.\", \"Yet you are wither'd.\", 'I care not.', 'I chafe you, if I tarry: let me go.', \"Go, fool, and whom thou keep'st command.\", 'Where did you study all this goodly speech?', 'A witty mother! witless else her son.', 'Yes; keep you warm.', 'Call you me daughter? now, I promise you', \"You have show'd a tender fatherly regard,\", 'To wish me wed to one half lunatic;', 'A mad-cup ruffian and a swearing Jack,', 'That thinks with oaths to face the matter out.', \"I'll see thee hang'd on Sunday first.\", 'No shame but mine: I must, forsooth, be forced', 'To give my hand opposed against my heart', 'Unto a mad-brain rudesby full of spleen;', \"Who woo'd in haste and means to wed at leisure.\", 'I told you, I, he was a frantic fool,', 'Hiding his bitter jests in blunt behavior:', 'And, to be noted for a merry man,', \"He'll woo a thousand, 'point the day of marriage,\", 'Make feasts, invite friends, and proclaim the banns;', \"Yet never means to wed where he hath woo'd.\", 'Now must the world point at poor Katharina,', \"And say, 'Lo, there is mad Petruchio's wife,\", \"If it would please him come and marry her!'\", 'Would Katharina had never seen him though!', 'Let me entreat you.', 'Are you content to stay?', 'Now, if you love me, stay.', 'Nay, then,', 'Do what thou canst, I will not go to-day;', 'No, nor to-morrow, not till I please myself.', 'The door is open, sir; there lies your way;', 'You may be jogging whiles your boots are green;', \"For me, I'll not be gone till I please myself:\", \"'Tis like you'll prove a jolly surly groom,\", 'That take it on you at the first so roundly.', 'I will be angry: what hast thou to do?', 'Father, be quiet; he shall stay my leisure.', \"Patience, I pray you; 'twas a fault unwilling.\", 'I pray you, husband, be not so disquiet:', 'The meat was well, if you were so contented.', 'The more my wrong, the more his spite appears:', 'What, did he marry me to famish me?', \"Beggars, that come unto my father's door,\", 'Upon entreaty have a present aims;', 'If not, elsewhere they meet with charity:', 'But I, who never knew how to entreat,'] \n",
      "\n",
      "Answer with Context: \n",
      " Peacocks, you say? Ah, such flamboyant creatures parading around with their ostentatious display of feathers. I suppose one could find them visually striking if one is into such extravagant displays of vanity in the bird kind. But personally, I prefer creatures that rely more on substance rather than flashy appearances.\n"
     ]
    }
   ],
   "source": [
    "question_1 = 'DO you think peacocks are good looking ?'\n",
    "\n",
    "print('Answer without Context: \\n', handle_question(build_simple_prompt(question_1), openai_client))\n",
    "\n",
    "print('\\nAnswer with Context: \\n', handle_question(build_custom_prompt(question_1, data['text']), openai_client))"
   ]
  },
  {
   "cell_type": "code",
   "execution_count": null,
   "id": "11c07a54",
   "metadata": {},
   "outputs": [],
   "source": []
  }
 ],
 "metadata": {
  "kernelspec": {
   "display_name": "conda_python3",
   "language": "python",
   "name": "conda_python3"
  },
  "language_info": {
   "codemirror_mode": {
    "name": "ipython",
    "version": 3
   },
   "file_extension": ".py",
   "mimetype": "text/x-python",
   "name": "python",
   "nbconvert_exporter": "python",
   "pygments_lexer": "ipython3",
   "version": "3.10.14"
  }
 },
 "nbformat": 4,
 "nbformat_minor": 5
}
