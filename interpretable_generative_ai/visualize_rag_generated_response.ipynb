{
 "cells": [
  {
   "cell_type": "code",
   "execution_count": 1,
   "id": "e2f62180-931d-4310-ba6a-9315cbf3adbb",
   "metadata": {
    "tags": []
   },
   "outputs": [],
   "source": [
    "%%capture\n",
    "!pip install -r requirements.txt"
   ]
  },
  {
   "cell_type": "code",
   "execution_count": 2,
   "id": "06726a9d-dd10-4256-a442-e1bdde238989",
   "metadata": {
    "collapsed": true,
    "jupyter": {
     "outputs_hidden": true
    },
    "tags": []
   },
   "outputs": [
    {
     "data": {
      "application/vnd.jupyter.widget-view+json": {
       "model_id": "26072bdc97574628960eb5eaa4c2e272",
       "version_major": 2,
       "version_minor": 0
      },
      "text/plain": [
       "VBox(children=(HTML(value='<center> <img\\nsrc=https://huggingface.co/front/assets/huggingface_logo-noborder.sv…"
      ]
     },
     "metadata": {},
     "output_type": "display_data"
    }
   ],
   "source": [
    "from huggingface_hub import login\n",
    "login()"
   ]
  },
  {
   "cell_type": "code",
   "execution_count": 3,
   "id": "16120e29-eed8-47bc-b8b0-cf0976cf9600",
   "metadata": {
    "collapsed": true,
    "jupyter": {
     "outputs_hidden": true
    },
    "tags": []
   },
   "outputs": [
    {
     "data": {
      "application/vnd.jupyter.widget-view+json": {
       "model_id": "dd72350c08964772ad6590aa64313630",
       "version_major": 2,
       "version_minor": 0
      },
      "text/plain": [
       "config.json:   0%|          | 0.00/855 [00:00<?, ?B/s]"
      ]
     },
     "metadata": {},
     "output_type": "display_data"
    },
    {
     "data": {
      "application/vnd.jupyter.widget-view+json": {
       "model_id": "edba6e7a5a434758b63dfd3e342ead09",
       "version_major": 2,
       "version_minor": 0
      },
      "text/plain": [
       "model.safetensors.index.json:   0%|          | 0.00/23.9k [00:00<?, ?B/s]"
      ]
     },
     "metadata": {},
     "output_type": "display_data"
    },
    {
     "data": {
      "application/vnd.jupyter.widget-view+json": {
       "model_id": "cfcbc16719e148d6ae26f69e4229208d",
       "version_major": 2,
       "version_minor": 0
      },
      "text/plain": [
       "Downloading shards:   0%|          | 0/4 [00:00<?, ?it/s]"
      ]
     },
     "metadata": {},
     "output_type": "display_data"
    },
    {
     "data": {
      "application/vnd.jupyter.widget-view+json": {
       "model_id": "fc0a179c4ec4480abae9a56cbffc3791",
       "version_major": 2,
       "version_minor": 0
      },
      "text/plain": [
       "model-00001-of-00004.safetensors:   0%|          | 0.00/4.98G [00:00<?, ?B/s]"
      ]
     },
     "metadata": {},
     "output_type": "display_data"
    },
    {
     "data": {
      "application/vnd.jupyter.widget-view+json": {
       "model_id": "96d80c539ef64c329145715df08560d9",
       "version_major": 2,
       "version_minor": 0
      },
      "text/plain": [
       "model-00002-of-00004.safetensors:   0%|          | 0.00/5.00G [00:00<?, ?B/s]"
      ]
     },
     "metadata": {},
     "output_type": "display_data"
    },
    {
     "data": {
      "application/vnd.jupyter.widget-view+json": {
       "model_id": "c4fbe05ec3464c0bbf112b941b521e4e",
       "version_major": 2,
       "version_minor": 0
      },
      "text/plain": [
       "model-00003-of-00004.safetensors:   0%|          | 0.00/4.92G [00:00<?, ?B/s]"
      ]
     },
     "metadata": {},
     "output_type": "display_data"
    },
    {
     "data": {
      "application/vnd.jupyter.widget-view+json": {
       "model_id": "5c60ae0b73594a9b9557c285daefa8b6",
       "version_major": 2,
       "version_minor": 0
      },
      "text/plain": [
       "model-00004-of-00004.safetensors:   0%|          | 0.00/1.17G [00:00<?, ?B/s]"
      ]
     },
     "metadata": {},
     "output_type": "display_data"
    },
    {
     "data": {
      "application/vnd.jupyter.widget-view+json": {
       "model_id": "d45fff2908c143ba988e893dfb0d7cdc",
       "version_major": 2,
       "version_minor": 0
      },
      "text/plain": [
       "Loading checkpoint shards:   0%|          | 0/4 [00:00<?, ?it/s]"
      ]
     },
     "metadata": {},
     "output_type": "display_data"
    },
    {
     "data": {
      "application/vnd.jupyter.widget-view+json": {
       "model_id": "bf79a70be5b54a0c9604f45700692eec",
       "version_major": 2,
       "version_minor": 0
      },
      "text/plain": [
       "generation_config.json:   0%|          | 0.00/184 [00:00<?, ?B/s]"
      ]
     },
     "metadata": {},
     "output_type": "display_data"
    },
    {
     "name": "stderr",
     "output_type": "stream",
     "text": [
      "Some parameters are on the meta device because they were offloaded to the cpu.\n"
     ]
    },
    {
     "data": {
      "application/vnd.jupyter.widget-view+json": {
       "model_id": "77ffdd30ce224437a2a21bd42f66e1bf",
       "version_major": 2,
       "version_minor": 0
      },
      "text/plain": [
       "tokenizer_config.json:   0%|          | 0.00/55.4k [00:00<?, ?B/s]"
      ]
     },
     "metadata": {},
     "output_type": "display_data"
    },
    {
     "data": {
      "application/vnd.jupyter.widget-view+json": {
       "model_id": "cf3e9495009443fc8d596eb41da8df4d",
       "version_major": 2,
       "version_minor": 0
      },
      "text/plain": [
       "tokenizer.json:   0%|          | 0.00/9.09M [00:00<?, ?B/s]"
      ]
     },
     "metadata": {},
     "output_type": "display_data"
    },
    {
     "data": {
      "application/vnd.jupyter.widget-view+json": {
       "model_id": "56144a61a92f487b9c0d3e215a997ac5",
       "version_major": 2,
       "version_minor": 0
      },
      "text/plain": [
       "special_tokens_map.json:   0%|          | 0.00/296 [00:00<?, ?B/s]"
      ]
     },
     "metadata": {},
     "output_type": "display_data"
    }
   ],
   "source": [
    "import transformers\n",
    "import torch\n",
    "\n",
    "model_id = \"meta-llama/Meta-Llama-3.1-8B-Instruct\"\n",
    "\n",
    "pipeline = transformers.pipeline(\n",
    "    \"text-generation\",\n",
    "    model=model_id,\n",
    "    model_kwargs={\"torch_dtype\": torch.bfloat16},\n",
    "    device_map=\"auto\",\n",
    ")\n",
    "\n",
    "\n"
   ]
  },
  {
   "cell_type": "code",
   "execution_count": 6,
   "id": "8c135412-28ba-4357-8757-ff0c571c5f57",
   "metadata": {
    "collapsed": true,
    "jupyter": {
     "outputs_hidden": true
    },
    "tags": []
   },
   "outputs": [
    {
     "name": "stderr",
     "output_type": "stream",
     "text": [
      "huggingface/tokenizers: The current process just got forked, after parallelism has already been used. Disabling parallelism to avoid deadlocks...\n",
      "To disable this warning, you can either:\n",
      "\t- Avoid using `tokenizers` before the fork if possible\n",
      "\t- Explicitly set the environment variable TOKENIZERS_PARALLELISM=(true | false)\n"
     ]
    }
   ],
   "source": [
    "%%capture\n",
    "!pip install faiss-cpu sentence-transformers"
   ]
  },
  {
   "cell_type": "code",
   "execution_count": 7,
   "id": "c8b3b4a9-7525-4bc7-9882-35b10a8f3d7e",
   "metadata": {
    "collapsed": true,
    "jupyter": {
     "outputs_hidden": true
    },
    "tags": []
   },
   "outputs": [
    {
     "data": {
      "application/vnd.jupyter.widget-view+json": {
       "model_id": "8f2adae258664f2489cbda099edb1c77",
       "version_major": 2,
       "version_minor": 0
      },
      "text/plain": [
       "modules.json:   0%|          | 0.00/349 [00:00<?, ?B/s]"
      ]
     },
     "metadata": {},
     "output_type": "display_data"
    },
    {
     "data": {
      "application/vnd.jupyter.widget-view+json": {
       "model_id": "dee3b44d4e5a4908935ee0f845ee9708",
       "version_major": 2,
       "version_minor": 0
      },
      "text/plain": [
       "config_sentence_transformers.json:   0%|          | 0.00/116 [00:00<?, ?B/s]"
      ]
     },
     "metadata": {},
     "output_type": "display_data"
    },
    {
     "data": {
      "application/vnd.jupyter.widget-view+json": {
       "model_id": "734c9b2836254bafaaabd66e6987a634",
       "version_major": 2,
       "version_minor": 0
      },
      "text/plain": [
       "README.md:   0%|          | 0.00/10.7k [00:00<?, ?B/s]"
      ]
     },
     "metadata": {},
     "output_type": "display_data"
    },
    {
     "data": {
      "application/vnd.jupyter.widget-view+json": {
       "model_id": "c5f26c34354b4f5ea718d0d5e837dbb9",
       "version_major": 2,
       "version_minor": 0
      },
      "text/plain": [
       "sentence_bert_config.json:   0%|          | 0.00/53.0 [00:00<?, ?B/s]"
      ]
     },
     "metadata": {},
     "output_type": "display_data"
    },
    {
     "data": {
      "application/vnd.jupyter.widget-view+json": {
       "model_id": "783eb326edee46e9860b8af44b265d80",
       "version_major": 2,
       "version_minor": 0
      },
      "text/plain": [
       "config.json:   0%|          | 0.00/612 [00:00<?, ?B/s]"
      ]
     },
     "metadata": {},
     "output_type": "display_data"
    },
    {
     "data": {
      "application/vnd.jupyter.widget-view+json": {
       "model_id": "058534558c714a70914ec3aef0f36b9f",
       "version_major": 2,
       "version_minor": 0
      },
      "text/plain": [
       "model.safetensors:   0%|          | 0.00/90.9M [00:00<?, ?B/s]"
      ]
     },
     "metadata": {},
     "output_type": "display_data"
    },
    {
     "data": {
      "application/vnd.jupyter.widget-view+json": {
       "model_id": "213f57f47ad240e0b6c8d69e13993cac",
       "version_major": 2,
       "version_minor": 0
      },
      "text/plain": [
       "tokenizer_config.json:   0%|          | 0.00/350 [00:00<?, ?B/s]"
      ]
     },
     "metadata": {},
     "output_type": "display_data"
    },
    {
     "data": {
      "application/vnd.jupyter.widget-view+json": {
       "model_id": "23c77b0a9aa84711a4ad9018b0d72da3",
       "version_major": 2,
       "version_minor": 0
      },
      "text/plain": [
       "vocab.txt:   0%|          | 0.00/232k [00:00<?, ?B/s]"
      ]
     },
     "metadata": {},
     "output_type": "display_data"
    },
    {
     "data": {
      "application/vnd.jupyter.widget-view+json": {
       "model_id": "f0ba19e245b84d959a74c68ec3eeec63",
       "version_major": 2,
       "version_minor": 0
      },
      "text/plain": [
       "tokenizer.json:   0%|          | 0.00/466k [00:00<?, ?B/s]"
      ]
     },
     "metadata": {},
     "output_type": "display_data"
    },
    {
     "data": {
      "application/vnd.jupyter.widget-view+json": {
       "model_id": "5e084efe33e04f1ca5b7a14aeec7a599",
       "version_major": 2,
       "version_minor": 0
      },
      "text/plain": [
       "special_tokens_map.json:   0%|          | 0.00/112 [00:00<?, ?B/s]"
      ]
     },
     "metadata": {},
     "output_type": "display_data"
    },
    {
     "data": {
      "application/vnd.jupyter.widget-view+json": {
       "model_id": "fce8b4fc3b6e4a88861245c83a141288",
       "version_major": 2,
       "version_minor": 0
      },
      "text/plain": [
       "1_Pooling/config.json:   0%|          | 0.00/190 [00:00<?, ?B/s]"
      ]
     },
     "metadata": {},
     "output_type": "display_data"
    }
   ],
   "source": [
    "import faiss\n",
    "import numpy as np\n",
    "from sentence_transformers import SentenceTransformer\n",
    "\n",
    "# Initialize a SentenceTransformer model for embedding\n",
    "embedding_model = SentenceTransformer('all-MiniLM-L6-v2')\n",
    "\n",
    "# Sample documents\n",
    "documents = [\"Experience the luxury of our new line of handcrafted leather bags, designed with both style and functionality in mind.\",\n",
    "\"Indulge in the rich aroma of our premium coffee beans, freshly roasted to perfection and sourced from the finest farms around the world.\",\n",
    "\"Elevate your kitchen with our sleek and modern stainless steel cookware set, featuring durable construction and innovative designs.\",\n",
    "\"Stay connected on the go with our powerful and lightweight laptop, featuring a high-resolution display and lightning-fast processor.\",\n",
    "\"Upgrade your entertainment experience with our immersive home theater system, delivering crystal-clear sound and stunning visuals.\",\n",
    "\"Discover the perfect balance of comfort and style with our collection of designer sneakers, crafted from premium materials and featuring cutting-edge technology.\",\n",
    "\"Pamper your skin with our natural and organic skincare products, formulated with nourishing ingredients to leave you feeling refreshed and rejuvenated.\",\n",
    "\"Transform your space with our versatile and stylish furniture pieces, designed to complement any décor and enhance your lifestyle.\",\n",
    "\"Indulge in the sweet and savory flavors of our gourmet chocolates, handcrafted with the finest ingredients and packaged in elegant gift boxes.\",\n",
    "\"Keep your little ones entertained and engaged with our educational and interactive toys, designed to spark creativity and imagination.\"]\n",
    "\n",
    "# Embed documents\n",
    "doc_embeddings = embedding_model.encode(documents)\n",
    "\n",
    "# Create a Faiss index\n",
    "dimension = doc_embeddings.shape[1]\n",
    "index = faiss.IndexFlatL2(dimension)\n",
    "index.add(doc_embeddings)\n",
    "\n",
    "# Create a simple mapping from indices to documents\n",
    "doc_mapping = {i: doc for i, doc in enumerate(documents)}\n"
   ]
  },
  {
   "cell_type": "code",
   "execution_count": 8,
   "id": "5efc446a-268f-4bc8-9813-5d03ebfe8719",
   "metadata": {
    "tags": []
   },
   "outputs": [
    {
     "data": {
      "text/plain": [
       "{0: 'Experience the luxury of our new line of handcrafted leather bags, designed with both style and functionality in mind.',\n",
       " 1: 'Indulge in the rich aroma of our premium coffee beans, freshly roasted to perfection and sourced from the finest farms around the world.',\n",
       " 2: 'Elevate your kitchen with our sleek and modern stainless steel cookware set, featuring durable construction and innovative designs.',\n",
       " 3: 'Stay connected on the go with our powerful and lightweight laptop, featuring a high-resolution display and lightning-fast processor.',\n",
       " 4: 'Upgrade your entertainment experience with our immersive home theater system, delivering crystal-clear sound and stunning visuals.',\n",
       " 5: 'Discover the perfect balance of comfort and style with our collection of designer sneakers, crafted from premium materials and featuring cutting-edge technology.',\n",
       " 6: 'Pamper your skin with our natural and organic skincare products, formulated with nourishing ingredients to leave you feeling refreshed and rejuvenated.',\n",
       " 7: 'Transform your space with our versatile and stylish furniture pieces, designed to complement any décor and enhance your lifestyle.',\n",
       " 8: 'Indulge in the sweet and savory flavors of our gourmet chocolates, handcrafted with the finest ingredients and packaged in elegant gift boxes.',\n",
       " 9: 'Keep your little ones entertained and engaged with our educational and interactive toys, designed to spark creativity and imagination.'}"
      ]
     },
     "execution_count": 8,
     "metadata": {},
     "output_type": "execute_result"
    }
   ],
   "source": [
    "doc_mapping"
   ]
  },
  {
   "cell_type": "code",
   "execution_count": 15,
   "id": "439a8536-3f12-4b01-ab1d-a45538006e64",
   "metadata": {
    "tags": []
   },
   "outputs": [],
   "source": [
    "import asyncio\n",
    "\n",
    "async def retrieve(query):\n",
    "    # Generate query embedding\n",
    "    query_embedding = embedding_model.encode([query])\n",
    "\n",
    "    # Search in FAISS\n",
    "    _, indices = index.search(query_embedding, k=2)  # retrieve top 2 documents\n",
    "\n",
    "    # Fetch relevant documents\n",
    "    results = [doc_mapping[idx] for idx in indices[0]]\n",
    "    return results\n",
    "\n",
    "\n"
   ]
  },
  {
   "cell_type": "code",
   "execution_count": 16,
   "id": "5a3306d5-0ff0-4856-bfba-4737442128b6",
   "metadata": {
    "tags": []
   },
   "outputs": [],
   "source": [
    "async def generate_response(query, retrieved_docs):\n",
    "    # Combine the query with retrieved documents\n",
    "    messages = [\n",
    "    {\"role\": \"system\", \"content\": \"\"\"You are a helpful assistant for an online store. Use the given context to answer\n",
    "    user queries.\"\"\"},\n",
    "    {\"role\": \"user\", \"content\": f\"Question: {query}\\nContext: {' '.join(retrieved_docs)}\"},\n",
    "    ]\n",
    "\n",
    "    outputs = pipeline(\n",
    "        messages,\n",
    "        max_new_tokens=256,\n",
    "    )\n",
    "    return outputs[0][\"generated_text\"][-1][\"content\"]"
   ]
  },
  {
   "cell_type": "code",
   "execution_count": 22,
   "id": "d3a7de31-849b-4868-b4c3-522e0e35419e",
   "metadata": {
    "tags": []
   },
   "outputs": [],
   "source": [
    "async def generate_response_with_html_tags(query, retrieved_docs):\n",
    "    # Combine the query with retrieved documents\n",
    "    messages = [\n",
    "    {\"role\": \"system\", \"content\": \"\"\"You are a helpful assistant for an online store. Use the given context which are relevant documents retrieved given to you, to answer\n",
    "    user queries. When using information from the retrieved documents, enclose those portions of your answer within <RAG> and </RAG> tags.\"\"\"},\n",
    "    {\"role\": \"user\", \"content\": f\"Question: {query}\\nContext: {' '.join(retrieved_docs)}\"},\n",
    "    ]\n",
    "\n",
    "    outputs = pipeline(\n",
    "        messages,\n",
    "        max_new_tokens=256,\n",
    "    )\n",
    "    return outputs[0][\"generated_text\"][-1][\"content\"]"
   ]
  },
  {
   "cell_type": "code",
   "execution_count": 17,
   "id": "01268f96-2390-4b57-a361-702549d5fdb0",
   "metadata": {
    "tags": []
   },
   "outputs": [],
   "source": [
    "# Test the retrieval function\n",
    "async def main():\n",
    "    query = \"Does this shop offer any skincare products?\"\n",
    "    retrieved_docs = await retrieve(query)\n",
    "    response = await generate_response(query, retrieved_docs)\n",
    "    print(\"Generated answer:\", response)"
   ]
  },
  {
   "cell_type": "code",
   "execution_count": 18,
   "id": "5126d8f4-dfdd-457e-9986-aecc2c6ed047",
   "metadata": {
    "tags": []
   },
   "outputs": [
    {
     "name": "stderr",
     "output_type": "stream",
     "text": [
      "Setting `pad_token_id` to `eos_token_id`:None for open-end generation.\n"
     ]
    },
    {
     "name": "stdout",
     "output_type": "stream",
     "text": [
      "Generated answer: Yes, our shop does offer skincare products. We have a range of natural and organic skincare products that are formulated with nourishing ingredients to help leave your skin feeling refreshed and rejuvenated. Would you like to know more about our skincare collection or perhaps find a specific product that suits your skin type?\n"
     ]
    }
   ],
   "source": [
    "await main()"
   ]
  },
  {
   "cell_type": "code",
   "execution_count": 23,
   "id": "61c8dda8-1c90-450f-8252-3b56ad370176",
   "metadata": {
    "tags": []
   },
   "outputs": [],
   "source": [
    "async def main():\n",
    "    query = \"Does this shop offer any skincare products?\"\n",
    "    retrieved_docs = await retrieve(query)\n",
    "    response = await generate_response_with_html_tags(query, retrieved_docs)\n",
    "    print(\"Generated answer:\", response)"
   ]
  },
  {
   "cell_type": "code",
   "execution_count": 24,
   "id": "61199c22-62af-4d97-8bcd-e926be7f9279",
   "metadata": {
    "tags": []
   },
   "outputs": [
    {
     "name": "stderr",
     "output_type": "stream",
     "text": [
      "Setting `pad_token_id` to `eos_token_id`:None for open-end generation.\n"
     ]
    },
    {
     "name": "stdout",
     "output_type": "stream",
     "text": [
      "Generated answer: Based on the provided context, it appears that this shop does offer skincare products. According to the information, they have a collection of natural and organic skincare products that are formulated with nourishing ingredients to provide a refreshing and rejuvenating experience.\n",
      "\n",
      "<RAG> Pamper your skin with our natural and organic skincare products, formulated with nourishing ingredients to leave you feeling refreshed and rejuvenated. </RAG>\n",
      "\n",
      "However, it's worth noting that the primary focus of the shop seems to be on designer sneakers, as mentioned in the second part of the context.\n"
     ]
    }
   ],
   "source": [
    "await main()"
   ]
  },
  {
   "cell_type": "code",
   "execution_count": 69,
   "id": "f06488a8-00e7-4098-8a32-4cc5ad8eb93c",
   "metadata": {
    "tags": []
   },
   "outputs": [],
   "source": [
    "async def generate_response_with_tags(query, retrieved_docs):\n",
    "    # Combine the query with retrieved documents\n",
    "    messages = [\n",
    "    {\"role\": \"system\", \"content\": \"\"\"You are a helpful assistant for an online store. You will do this in 3 steps. \n",
    "    step 1. Use the given context which are relevant documents retrieved given to you, to answer\n",
    "    user queries. \n",
    "    step 2.Take a breath for 2 seconds.\n",
    "    step 3. Now, tag the words or phrases in your response that you got from the context using parentheses and then provide your answer.\"\"\"},\n",
    "    {\"role\": \"user\", \"content\": f\"Question: {query}\\nContext: {' '.join(retrieved_docs)}\"},\n",
    "    ]\n",
    "\n",
    "    outputs = pipeline(\n",
    "        messages,\n",
    "        max_new_tokens=256,\n",
    "    )\n",
    "    return outputs[0][\"generated_text\"][-1][\"content\"]"
   ]
  },
  {
   "cell_type": "code",
   "execution_count": 70,
   "id": "ee3100a5-e67f-4a62-b0c7-c331cf3fb6c0",
   "metadata": {
    "tags": []
   },
   "outputs": [],
   "source": [
    "async def main(query):\n",
    "    retrieved_docs = await retrieve(query)\n",
    "    response = await generate_response_with_tags(query, retrieved_docs)\n",
    "    print(\"Generated answer:\", response)\n",
    "    return response\n",
    "    "
   ]
  },
  {
   "cell_type": "code",
   "execution_count": 71,
   "id": "97236b42-e9fe-463d-bbf5-a0834f5f3ec3",
   "metadata": {
    "tags": []
   },
   "outputs": [
    {
     "name": "stderr",
     "output_type": "stream",
     "text": [
      "Setting `pad_token_id` to `eos_token_id`:None for open-end generation.\n"
     ]
    },
    {
     "name": "stdout",
     "output_type": "stream",
     "text": [
      "Generated answer: (Breath in for 2 seconds, Breath out for 2 seconds)\n",
      "\n",
      "Yes, this shop offers (skincare products) as mentioned in the context. They offer natural and organic (skincare products) that are formulated with (nourishing ingredients) to provide a refreshed and rejuvenated feeling.\n"
     ]
    }
   ],
   "source": [
    "query = \"Does this shop offer any skincare products?\"\n",
    "response_with_highlights = await main(query)"
   ]
  },
  {
   "cell_type": "code",
   "execution_count": 72,
   "id": "498f8a90-5200-4149-96de-5fa72bb771ae",
   "metadata": {
    "tags": []
   },
   "outputs": [],
   "source": [
    "def highlight_words(text, highlight_color):\n",
    "    \"\"\"Highlights words or phrases in parentheses with a specified color.\n",
    "\n",
    "    Args:\n",
    "        text (str): The input text.\n",
    "        highlight_color (str): The color code for highlighting (e.g., \"\\033[31m\" for red).\n",
    "\n",
    "    Returns:\n",
    "        str: The highlighted text with parentheses removed.\n",
    "    \"\"\"\n",
    "\n",
    "    import re\n",
    "    pattern = r\"\\((.*?)\\)\"\n",
    "\n",
    "    highlighted_text = re.sub(pattern, lambda x: f\"{highlight_color}{x.group(1)}\\033[0m\", text)\n",
    "    \n",
    "\n",
    "    return highlighted_text\n",
    "\n"
   ]
  },
  {
   "cell_type": "code",
   "execution_count": 73,
   "id": "4cbdc539-b257-4558-908f-e7456d82b0bc",
   "metadata": {
    "tags": []
   },
   "outputs": [
    {
     "name": "stdout",
     "output_type": "stream",
     "text": [
      "\u001b[32mBreath in for 2 seconds, Breath out for 2 seconds\u001b[0m\n",
      "\n",
      "Yes, this shop offers \u001b[32mskincare products\u001b[0m as mentioned in the context. They offer natural and organic \u001b[32mskincare products\u001b[0m that are formulated with \u001b[32mnourishing ingredients\u001b[0m to provide a refreshed and rejuvenated feeling.\n"
     ]
    }
   ],
   "source": [
    "highlighted_text = highlight_words(response_with_highlights, \"\\033[32m\")\n",
    "print(highlighted_text)"
   ]
  },
  {
   "cell_type": "code",
   "execution_count": null,
   "id": "19e89067-99f1-4d06-b9b5-c4ce47cdd031",
   "metadata": {},
   "outputs": [],
   "source": []
  }
 ],
 "metadata": {
  "kernelspec": {
   "display_name": "conda_pytorch_p310",
   "language": "python",
   "name": "conda_pytorch_p310"
  },
  "language_info": {
   "codemirror_mode": {
    "name": "ipython",
    "version": 3
   },
   "file_extension": ".py",
   "mimetype": "text/x-python",
   "name": "python",
   "nbconvert_exporter": "python",
   "pygments_lexer": "ipython3",
   "version": "3.10.14"
  }
 },
 "nbformat": 4,
 "nbformat_minor": 5
}
