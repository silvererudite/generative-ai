{
 "cells": [
  {
   "cell_type": "code",
   "execution_count": 4,
   "id": "936b9567-182d-4f3e-a492-842adeedccb3",
   "metadata": {
    "tags": []
   },
   "outputs": [],
   "source": [
    "%%capture\n",
    "!pip install -r requirements.txt"
   ]
  },
  {
   "cell_type": "code",
   "execution_count": 5,
   "id": "59cedc6f-254f-4cd0-87d8-bfab9b4bc4b7",
   "metadata": {
    "collapsed": true,
    "jupyter": {
     "outputs_hidden": true
    },
    "tags": []
   },
   "outputs": [],
   "source": [
    "%%capture\n",
    "!pip install qwen-vl-utils "
   ]
  },
  {
   "cell_type": "code",
   "execution_count": 59,
   "id": "a3e684ab-019b-4385-ba3b-05fb040374ed",
   "metadata": {
    "tags": []
   },
   "outputs": [
    {
     "name": "stderr",
     "output_type": "stream",
     "text": [
      "Unrecognized keys in `rope_scaling` for 'rope_type'='default': {'mrope_section'}\n"
     ]
    },
    {
     "data": {
      "application/vnd.jupyter.widget-view+json": {
       "model_id": "bb8c11f54d5a45308ec987e04c338ee3",
       "version_major": 2,
       "version_minor": 0
      },
      "text/plain": [
       "Loading checkpoint shards:   0%|          | 0/2 [00:00<?, ?it/s]"
      ]
     },
     "metadata": {},
     "output_type": "display_data"
    }
   ],
   "source": [
    "from transformers import Qwen2VLForConditionalGeneration, AutoTokenizer, AutoProcessor\n",
    "from qwen_vl_utils import process_vision_info\n",
    "\n",
    "\n",
    "model = Qwen2VLForConditionalGeneration.from_pretrained(\n",
    "    \"Qwen/Qwen2-VL-2B-Instruct\", torch_dtype=\"auto\", device_map=\"auto\", \n",
    ")\n",
    "\n",
    "processor = AutoProcessor.from_pretrained(\"Qwen/Qwen2-VL-2B-Instruct\")"
   ]
  },
  {
   "cell_type": "code",
   "execution_count": 7,
   "id": "ebe1d465-6f81-46a3-b809-71b0d44019d8",
   "metadata": {
    "tags": []
   },
   "outputs": [],
   "source": [
    "messages_eiffel = [\n",
    "    {\n",
    "        \"role\": \"user\",\n",
    "        \"content\": [\n",
    "            {\n",
    "                \"type\": \"image\",\n",
    "                \"image\":  \"eiffel.jpeg\",\n",
    "            },\n",
    "            {\"type\": \"text\", \"text\": \"\"\"Describe the follwing image in terms of objects present and any famous landmarks you see.\n",
    "        \"\"\"},\n",
    "        ],\n",
    "    }\n",
    "]\n",
    "\n"
   ]
  },
  {
   "cell_type": "code",
   "execution_count": 8,
   "id": "a1b1bfb9-e01a-4f6a-8cf1-3995cd05a60a",
   "metadata": {
    "tags": []
   },
   "outputs": [],
   "source": [
    "asian_landmarks = [\n",
    "    {\n",
    "        \"role\": \"user\",\n",
    "        \"content\": [\n",
    "            {\n",
    "                \"type\": \"image\",\n",
    "                \"image\":  \"lalbagh_fort.jpeg\",\n",
    "            },\n",
    "            {\"type\": \"text\", \"text\": \"\"\"Describe the follwing image in terms of objects present and any famous landmarks you see.\n",
    "        \"\"\"},\n",
    "        ],\n",
    "    }\n",
    "]\n"
   ]
  },
  {
   "cell_type": "code",
   "execution_count": 9,
   "id": "6ae07dae-57a5-47a3-9509-23d2aace5219",
   "metadata": {
    "tags": []
   },
   "outputs": [],
   "source": [
    "def get_vlm_response(messages):\n",
    "    text = processor.apply_chat_template(\n",
    "    messages, tokenize=False, add_generation_prompt=True)\n",
    "    image_inputs, video_inputs = process_vision_info(messages)\n",
    "    print(text)\n",
    "    inputs = processor(\n",
    "        text=[text],\n",
    "        images=image_inputs,\n",
    "        videos=video_inputs,\n",
    "        padding=True,\n",
    "        return_tensors=\"pt\",\n",
    "    )\n",
    "    inputs = inputs.to(\"cuda\")\n",
    "\n",
    "    # Inference: Generation of the output\n",
    "    generated_ids = model.generate(**inputs, max_new_tokens=128)\n",
    "    generated_ids_trimmed = [\n",
    "        out_ids[len(in_ids) :] for in_ids, out_ids in zip(inputs.input_ids, generated_ids)\n",
    "    ]\n",
    "    output_text = processor.batch_decode(\n",
    "        generated_ids_trimmed, skip_special_tokens=True, clean_up_tokenization_spaces=False\n",
    "    )\n",
    "    return output_text\n"
   ]
  },
  {
   "cell_type": "code",
   "execution_count": 60,
   "id": "55c5d8ff-548f-46c8-964a-b66279bf8120",
   "metadata": {
    "tags": []
   },
   "outputs": [],
   "source": [
    "def get_vlm_response_text(messages):\n",
    "    text = processor.apply_chat_template(\n",
    "    messages, tokenize=False, add_generation_prompt=True)\n",
    "    inputs = processor(\n",
    "        text=[text],\n",
    "        padding=True,\n",
    "        return_tensors=\"pt\",\n",
    "    )\n",
    "    inputs = inputs.to(\"cuda\")\n",
    "\n",
    "    # Inference: Generation of the output\n",
    "    generated_ids = model.generate(**inputs, max_new_tokens=128)\n",
    "    generated_ids_trimmed = [\n",
    "        out_ids[len(in_ids) :] for in_ids, out_ids in zip(inputs.input_ids, generated_ids)\n",
    "    ]\n",
    "    output_text = processor.batch_decode(\n",
    "        generated_ids_trimmed, skip_special_tokens=True, clean_up_tokenization_spaces=False\n",
    "    )\n",
    "    return output_text\n"
   ]
  },
  {
   "cell_type": "code",
   "execution_count": 11,
   "id": "650b521a-12fb-417a-8cb4-1d44778f8287",
   "metadata": {
    "tags": []
   },
   "outputs": [
    {
     "name": "stdout",
     "output_type": "stream",
     "text": [
      "<|im_start|>system\n",
      "You are a helpful assistant.<|im_end|>\n",
      "<|im_start|>user\n",
      "<|vision_start|><|image_pad|><|vision_end|>Describe the follwing image in terms of objects present and any famous landmarks you see.\n",
      "        <|im_end|>\n",
      "<|im_start|>assistant\n",
      "\n"
     ]
    },
    {
     "data": {
      "text/plain": [
       "['The image depicts the Eiffel Tower, a famous landmark located in Paris, France. The Eiffel Tower is a wrought iron lattice tower that stands 324 meters (1,063 feet) tall and is the most recognizable symbol of Paris. It was designed by Gustave Eiffel and completed in 1889. The tower is situated in the Champ de Mars park, which is a large green space in the heart of the city. The sky in the image is clear and blue, indicating a sunny day. The Eiffel Tower is the central focus of the image, and it is surrounded']"
      ]
     },
     "execution_count": 11,
     "metadata": {},
     "output_type": "execute_result"
    }
   ],
   "source": [
    "response = get_vlm_response(messages_eiffel)\n",
    "response"
   ]
  },
  {
   "cell_type": "code",
   "execution_count": 12,
   "id": "8f017e3a-ded0-438b-acf5-36fabce82a88",
   "metadata": {
    "tags": []
   },
   "outputs": [
    {
     "name": "stdout",
     "output_type": "stream",
     "text": [
      "<|im_start|>system\n",
      "You are a helpful assistant.<|im_end|>\n",
      "<|im_start|>user\n",
      "<|vision_start|><|image_pad|><|vision_end|>Describe the follwing image in terms of objects present and any famous landmarks you see.\n",
      "        <|im_end|>\n",
      "<|im_start|>assistant\n",
      "\n"
     ]
    },
    {
     "data": {
      "text/plain": [
       "['The image depicts the Shalimar Bagh, a historic garden and mosque complex located in Srinagar, Jammu and Kashmir, India. The Shalimar Bagh is a UNESCO World Heritage Site and is known for its stunning architecture and serene atmosphere. The image shows the main entrance of the complex, which features a large, ornate gate with a central archway and two smaller archways flanking it. The gate is made of red sandstone and is adorned with intricate carvings and sculptures.\\n\\nIn front of the gate, there is a large, rectangular pool with a fountain in the center. The pool is filled with']"
      ]
     },
     "execution_count": 12,
     "metadata": {},
     "output_type": "execute_result"
    }
   ],
   "source": [
    "response = get_vlm_response(asian_landmarks)\n",
    "response"
   ]
  },
  {
   "cell_type": "code",
   "execution_count": 62,
   "id": "a50e0558-7674-450e-965b-2a1e2252be1a",
   "metadata": {
    "tags": []
   },
   "outputs": [],
   "source": [
    "extract_entities = [\n",
    "    {\n",
    "        \"role\": \"user\",\n",
    "        \"content\": [\n",
    "            {\"type\": \"text\", \"text\": f\"Extract the entities such as landmarks from the given text {response} and output the entity names only.\"},\n",
    "        ],\n",
    "    }\n",
    "]"
   ]
  },
  {
   "cell_type": "code",
   "execution_count": 63,
   "id": "c7e6e97c-dec9-4867-9771-b14fcaf78039",
   "metadata": {
    "tags": []
   },
   "outputs": [
    {
     "data": {
      "text/plain": [
       "['Shalimar Bagh, Srinagar, Jammu and Kashmir, India, UNESCO World Heritage Site, Shalimar Bagh, main entrance, large ornate gate, central archway, two smaller archways, red sandstone, intricate carvings, sculptures, large rectangular pool, fountain, filled with water']"
      ]
     },
     "execution_count": 63,
     "metadata": {},
     "output_type": "execute_result"
    }
   ],
   "source": [
    "entities = get_vlm_response_text(extract_entities)\n",
    "entities"
   ]
  },
  {
   "cell_type": "markdown",
   "id": "2d8fa950-541d-4360-8c01-1d377c264009",
   "metadata": {},
   "source": [
    "# Construct our simple knowledge graph "
   ]
  },
  {
   "cell_type": "code",
   "execution_count": 15,
   "id": "0e2a4cfc-1059-4f1c-93f5-cfad014cfd3e",
   "metadata": {
    "tags": []
   },
   "outputs": [],
   "source": [
    "import networkx as nx\n",
    "\n",
    "G = nx.Graph()\n",
    "G.add_edge('Lalbagh fort', 'Dhaka', relation='Located In')\n",
    "G.add_edge('Dhaka', 'Bangladesh', relation='Capital Of')\n",
    "G.add_edge('Lalbagh fort', 'mosque', relation='religious structure')\n",
    "G.add_edge('Lalbagh fort', 'historical building', relation='landmark type')"
   ]
  },
  {
   "cell_type": "code",
   "execution_count": 16,
   "id": "42a33eca-fa66-4c30-b764-09b9923202ae",
   "metadata": {
    "tags": []
   },
   "outputs": [
    {
     "data": {
      "text/plain": [
       "{('Lalbagh fort',\n",
       "  'Dhaka'): Text(0.10282975377773917, -0.019845164094296874, 'Located In'),\n",
       " ('Lalbagh fort',\n",
       "  'mosque'): Text(-0.4574902940799965, -0.14160178708430549, 'religious structure'),\n",
       " ('Lalbagh fort',\n",
       "  'historical building'): Text(-0.3729990599724063, 0.29599030399839865, 'landmark type'),\n",
       " ('Dhaka',\n",
       "  'Bangladesh'): Text(0.7166654049936365, -0.1335692236353911, 'Capital Of')}"
      ]
     },
     "execution_count": 16,
     "metadata": {},
     "output_type": "execute_result"
    },
    {
     "data": {
      "image/png": "[encoded data removed]",
      "text/plain": [
       "<Figure size 640x480 with 1 Axes>"
      ]
     },
     "metadata": {},
     "output_type": "display_data"
    }
   ],
   "source": [
    "pos = nx.spring_layout(G)\n",
    "nx.draw(G, pos, with_labels=True)\n",
    "edge_labels = nx.get_edge_attributes(G, 'relation')\n",
    "nx.draw_networkx_edge_labels(G, pos, edge_labels=edge_labels)"
   ]
  },
  {
   "cell_type": "markdown",
   "id": "ab9b4c8f-6a6c-4a91-97fc-da7f2970a1bf",
   "metadata": {},
   "source": [
    "# Apply a post processing strategy to correct the generated text"
   ]
  },
  {
   "cell_type": "code",
   "execution_count": 17,
   "id": "19485e16-039e-420e-88ff-0dd623b35edd",
   "metadata": {
    "collapsed": true,
    "jupyter": {
     "outputs_hidden": true
    },
    "tags": []
   },
   "outputs": [
    {
     "name": "stderr",
     "output_type": "stream",
     "text": [
      "huggingface/tokenizers: The current process just got forked, after parallelism has already been used. Disabling parallelism to avoid deadlocks...\n",
      "To disable this warning, you can either:\n",
      "\t- Avoid using `tokenizers` before the fork if possible\n",
      "\t- Explicitly set the environment variable TOKENIZERS_PARALLELISM=(true | false)\n"
     ]
    }
   ],
   "source": [
    "%%capture\n",
    "!pip install spacy\n"
   ]
  },
  {
   "cell_type": "code",
   "execution_count": 18,
   "id": "6c024984-a5a5-4718-bf50-132f97012209",
   "metadata": {
    "collapsed": true,
    "jupyter": {
     "outputs_hidden": true
    },
    "tags": []
   },
   "outputs": [
    {
     "name": "stderr",
     "output_type": "stream",
     "text": [
      "huggingface/tokenizers: The current process just got forked, after parallelism has already been used. Disabling parallelism to avoid deadlocks...\n",
      "To disable this warning, you can either:\n",
      "\t- Avoid using `tokenizers` before the fork if possible\n",
      "\t- Explicitly set the environment variable TOKENIZERS_PARALLELISM=(true | false)\n"
     ]
    }
   ],
   "source": [
    "%%capture\n",
    "!python -m spacy download en_core_web_sm"
   ]
  },
  {
   "cell_type": "code",
   "execution_count": 30,
   "id": "6506d0f7-d524-419f-a1a6-a2fd692e875e",
   "metadata": {
    "tags": []
   },
   "outputs": [],
   "source": [
    "import spacy\n",
    "from spacy.tokens import Span\n",
    "\n",
    "# Load spaCy's English model\n",
    "nlp = spacy.load(\"en_core_web_sm\")\n",
    "\n",
    "def extract_entities(text):\n",
    "    \"\"\"\n",
    "    Extract entities from the text using spaCy's NER model.\n",
    "    \n",
    "    Args:\n",
    "        text (str): Input text.\n",
    "        \n",
    "    Returns:\n",
    "        dict: A dictionary where keys are entity types and values are lists of entities of that type.\n",
    "    \"\"\"\n",
    "    doc = nlp(text)\n",
    "    entities = {}\n",
    "    \n",
    "    for ent in doc.ents:\n",
    "        if ent.label_ not in entities:\n",
    "            entities[ent.label_] = [ent.text]\n",
    "        else:\n",
    "            entities[ent.label_].append(ent.text)\n",
    "    \n",
    "    return entities\n",
    "\n",
    "def highlight_entities(text):\n",
    "    \"\"\"\n",
    "    Highlight entities in the text by enclosing them in square brackets with entity type.\n",
    "    \n",
    "    Args:\n",
    "        text (str): Input text.\n",
    "        \n",
    "    Returns:\n",
    "        str: Text with entities highlighted.\n",
    "    \"\"\"\n",
    "    doc = nlp(text)\n",
    "    \n",
    "    highlighted_text = text\n",
    "    offset = 0  # Offset to track position shifts as we insert entity types\n",
    "    \n",
    "    for ent in doc.ents:\n",
    "        entity_string = f\"[{ent.text} ({ent.label_})]\"\n",
    "        start = ent.start_char + offset\n",
    "        end = ent.end_char + offset\n",
    "        \n",
    "        # Replace the entity with the highlighted version\n",
    "        highlighted_text = highlighted_text[:start] + entity_string + highlighted_text[end:]\n",
    "        offset += len(entity_string) - len(ent.text)  # Adjust offset by difference in lengths\n",
    "    \n",
    "    return highlighted_text\n"
   ]
  },
  {
   "cell_type": "code",
   "execution_count": 39,
   "id": "29778026-b836-4045-adf6-3218e0a8b76e",
   "metadata": {
    "tags": []
   },
   "outputs": [
    {
     "name": "stdout",
     "output_type": "stream",
     "text": [
      "Extracted Entities: {'FAC': ['the Shalimar Bagh'], 'GPE': ['Srinagar', 'Jammu', 'Kashmir', 'India'], 'PERSON': ['The Shalimar Bagh'], 'ORG': ['UNESCO World Heritage Site'], 'CARDINAL': ['two']}\n"
     ]
    }
   ],
   "source": [
    "# Extract entities\n",
    "entities = extract_entities(response[0])\n",
    "print(\"Extracted Entities:\", entities)\n"
   ]
  },
  {
   "cell_type": "code",
   "execution_count": 21,
   "id": "abb49be3-2189-4ac9-b417-04a9eb87439b",
   "metadata": {
    "tags": []
   },
   "outputs": [
    {
     "name": "stdout",
     "output_type": "stream",
     "text": [
      "Highlighted Text: The image depicts [the Shalimar Bagh (FAC)], a historic garden and mosque complex located in [Srinagar (GPE)], [Jammu (GPE)] and [Kashmir (GPE)], [India (GPE)]. [The Shalimar Bagh (PERSON)] is a [UNESCO World Heritage Site (ORG)] and is known for its stunning architecture and serene atmosphere. The image shows the main entrance of the complex, which features a large, ornate gate with a central archway and [two (CARDINAL)] smaller archways flanking it. The gate is made of red sandstone and is adorned with intricate carvings and sculptures.\n",
      "\n",
      "In front of the gate, there is a large, rectangular pool with a fountain in the center. The pool is filled with\n"
     ]
    }
   ],
   "source": [
    "highlighted_text = highlight_entities(response[0])\n",
    "print(\"Highlighted Text:\", highlighted_text)"
   ]
  },
  {
   "cell_type": "code",
   "execution_count": 26,
   "id": "243dc5a5-371a-4aa5-900d-a243efe10cbc",
   "metadata": {
    "tags": []
   },
   "outputs": [],
   "source": [
    "from sklearn.metrics.pairwise import cosine_similarity\n",
    "from sentence_transformers import SentenceTransformer\n",
    "\n",
    "\n",
    "# Check entities against the knowledge graph\n",
    "def find_entity_in_graph(entity, G):\n",
    "    return entity if entity in G.nodes else None\n",
    "\n",
    "# Find the most similar entity from the graph using embeddings\n",
    "def find_closest_entity(entity, G, model):\n",
    "    graph_entities = list(G.nodes)\n",
    "    entity_embeddings = model.encode([entity])\n",
    "    graph_embeddings = model.encode(graph_entities)\n",
    "    similarities = cosine_similarity(entity_embeddings, graph_embeddings).flatten()\n",
    "    best_match_index = similarities.argmax()\n",
    "    best_match_score = similarities[best_match_index]\n",
    "    return graph_entities[best_match_index] if best_match_score > 0.5 else None  # Adjust the threshold as needed\n",
    "\n"
   ]
  },
  {
   "cell_type": "code",
   "execution_count": 27,
   "id": "7e1abc99-741a-4b22-b285-41a1b2013109",
   "metadata": {
    "collapsed": true,
    "jupyter": {
     "outputs_hidden": true
    },
    "tags": []
   },
   "outputs": [
    {
     "data": {
      "application/vnd.jupyter.widget-view+json": {
       "model_id": "d849de73f0ab4f1aadc7f89fe5390ac1",
       "version_major": 2,
       "version_minor": 0
      },
      "text/plain": [
       "modules.json:   0%|          | 0.00/349 [00:00<?, ?B/s]"
      ]
     },
     "metadata": {},
     "output_type": "display_data"
    },
    {
     "data": {
      "application/vnd.jupyter.widget-view+json": {
       "model_id": "6efd898e587442ca8db18b1299258f8d",
       "version_major": 2,
       "version_minor": 0
      },
      "text/plain": [
       "config_sentence_transformers.json:   0%|          | 0.00/116 [00:00<?, ?B/s]"
      ]
     },
     "metadata": {},
     "output_type": "display_data"
    },
    {
     "data": {
      "application/vnd.jupyter.widget-view+json": {
       "model_id": "00b36534719f400fa279c581c3ab9182",
       "version_major": 2,
       "version_minor": 0
      },
      "text/plain": [
       "README.md:   0%|          | 0.00/10.7k [00:00<?, ?B/s]"
      ]
     },
     "metadata": {},
     "output_type": "display_data"
    },
    {
     "data": {
      "application/vnd.jupyter.widget-view+json": {
       "model_id": "39a373cd5b764fb4af23be48c4e94416",
       "version_major": 2,
       "version_minor": 0
      },
      "text/plain": [
       "sentence_bert_config.json:   0%|          | 0.00/53.0 [00:00<?, ?B/s]"
      ]
     },
     "metadata": {},
     "output_type": "display_data"
    },
    {
     "data": {
      "application/vnd.jupyter.widget-view+json": {
       "model_id": "5a637f2bc55e4497a2feada61915e870",
       "version_major": 2,
       "version_minor": 0
      },
      "text/plain": [
       "config.json:   0%|          | 0.00/612 [00:00<?, ?B/s]"
      ]
     },
     "metadata": {},
     "output_type": "display_data"
    },
    {
     "data": {
      "application/vnd.jupyter.widget-view+json": {
       "model_id": "e774381176ab4369986922b8d28e2de2",
       "version_major": 2,
       "version_minor": 0
      },
      "text/plain": [
       "model.safetensors:   0%|          | 0.00/90.9M [00:00<?, ?B/s]"
      ]
     },
     "metadata": {},
     "output_type": "display_data"
    },
    {
     "data": {
      "application/vnd.jupyter.widget-view+json": {
       "model_id": "e0800de3768c4911822b4c4f008c6c66",
       "version_major": 2,
       "version_minor": 0
      },
      "text/plain": [
       "tokenizer_config.json:   0%|          | 0.00/350 [00:00<?, ?B/s]"
      ]
     },
     "metadata": {},
     "output_type": "display_data"
    },
    {
     "data": {
      "application/vnd.jupyter.widget-view+json": {
       "model_id": "5e26b416d1d14168a02382e6760f0312",
       "version_major": 2,
       "version_minor": 0
      },
      "text/plain": [
       "vocab.txt:   0%|          | 0.00/232k [00:00<?, ?B/s]"
      ]
     },
     "metadata": {},
     "output_type": "display_data"
    },
    {
     "data": {
      "application/vnd.jupyter.widget-view+json": {
       "model_id": "8946e4ded63f467194a4783a81bf59a2",
       "version_major": 2,
       "version_minor": 0
      },
      "text/plain": [
       "tokenizer.json:   0%|          | 0.00/466k [00:00<?, ?B/s]"
      ]
     },
     "metadata": {},
     "output_type": "display_data"
    },
    {
     "data": {
      "application/vnd.jupyter.widget-view+json": {
       "model_id": "152f19f6b01e4638ac2340101f9c34d7",
       "version_major": 2,
       "version_minor": 0
      },
      "text/plain": [
       "special_tokens_map.json:   0%|          | 0.00/112 [00:00<?, ?B/s]"
      ]
     },
     "metadata": {},
     "output_type": "display_data"
    },
    {
     "name": "stderr",
     "output_type": "stream",
     "text": [
      "/home/ec2-user/anaconda3/envs/pytorch_p310/lib/python3.10/site-packages/transformers/tokenization_utils_base.py:1617: FutureWarning: `clean_up_tokenization_spaces` was not set. It will be set to `True` by default. This behavior will be deprecated in transformers v4.45, and will be then set to `False` by default. For more details check this issue: https://github.com/huggingface/transformers/issues/31884\n",
      "  warnings.warn(\n"
     ]
    },
    {
     "data": {
      "application/vnd.jupyter.widget-view+json": {
       "model_id": "811e730fda544fd1b63760568af4c88b",
       "version_major": 2,
       "version_minor": 0
      },
      "text/plain": [
       "1_Pooling/config.json:   0%|          | 0.00/190 [00:00<?, ?B/s]"
      ]
     },
     "metadata": {},
     "output_type": "display_data"
    }
   ],
   "source": [
    "# Load a pre-trained model for embeddings\n",
    "model = SentenceTransformer('all-MiniLM-L6-v2')"
   ]
  },
  {
   "cell_type": "code",
   "execution_count": 42,
   "id": "946c5173-23a9-4d7e-9271-954df3c3cc01",
   "metadata": {
    "tags": []
   },
   "outputs": [],
   "source": [
    "generated_entities = [entity for entity_list in entities.values() for entity in entity_list]"
   ]
  },
  {
   "cell_type": "code",
   "execution_count": 49,
   "id": "f3acaa61-bbb2-448d-abdc-dd9a951b05b6",
   "metadata": {
    "tags": []
   },
   "outputs": [],
   "source": [
    "corrected_entities = []\n",
    "for entity in generated_entities:\n",
    "    if find_entity_in_graph(entity, G):\n",
    "        corrected_entities.append(entity)\n",
    "    else:\n",
    "        # Try to find a close match if the entity is not in the graph\n",
    "        closest_entity = find_closest_entity(entity, G, model)\n",
    "        if closest_entity:\n",
    "            corrected_entities.append(closest_entity)\n",
    "        else:\n",
    "            # If no close match is found, consider it hallucinated and choose an appropriate action\n",
    "            corrected_entities.append(f\"[Hallucinated Entity: {entity}]\")\n",
    "\n",
    "\n"
   ]
  },
  {
   "cell_type": "code",
   "execution_count": 50,
   "id": "f3c78812-3062-4b5f-acf9-e64990241243",
   "metadata": {
    "tags": []
   },
   "outputs": [
    {
     "data": {
      "text/plain": [
       "['[Hallucinated Entity: the Shalimar Bagh]',\n",
       " 'Dhaka',\n",
       " '[Hallucinated Entity: Jammu]',\n",
       " 'Bangladesh',\n",
       " 'Bangladesh',\n",
       " '[Hallucinated Entity: The Shalimar Bagh]',\n",
       " '[Hallucinated Entity: UNESCO World Heritage Site]',\n",
       " '[Hallucinated Entity: two]']"
      ]
     },
     "execution_count": 50,
     "metadata": {},
     "output_type": "execute_result"
    }
   ],
   "source": [
    "corrected_entities"
   ]
  },
  {
   "cell_type": "code",
   "execution_count": 51,
   "id": "84f4e635-590c-4e7e-8591-0db4ec253c48",
   "metadata": {
    "tags": []
   },
   "outputs": [
    {
     "name": "stdout",
     "output_type": "stream",
     "text": [
      "Corrected Generation:\n",
      "The image depicts [Hallucinated Entity: the Shalimar Bagh], a historic garden and mosque complex located in Dhaka, [Hallucinated Entity: Jammu] and Bangladesh, Bangladesh. [Hallucinated Entity: The Shalimar Bagh] is a [Hallucinated Entity: UNESCO World Heritage Site] and is known for its stunning architecture and serene atmosphere. The image shows the main entrance of the complex, which features a large, ornate gate with a central archway and [Hallucinated Entity: two] smaller archways flanking it. The gate is made of red sandstone and is adorned with intricate carvings and sculptures.\n",
      "\n",
      "In front of the gate, there is a large, rectangular pool with a fountain in the center. The pool is filled with\n"
     ]
    }
   ],
   "source": [
    "# Display the corrected generation\n",
    "corrected_text = response[0]\n",
    "for hallucinated, corrected in zip(generated_entities, corrected_entities):\n",
    "    corrected_text = corrected_text.replace(hallucinated, corrected)\n",
    "\n",
    "print(\"Corrected Generation:\")\n",
    "print(corrected_text)"
   ]
  },
  {
   "cell_type": "markdown",
   "id": "ab894d91-655b-4594-80fc-b5ccc78699b0",
   "metadata": {},
   "source": [
    "# Context augmentation to make the llm correct its generation"
   ]
  },
  {
   "cell_type": "code",
   "execution_count": 52,
   "id": "f8cef3b7-1fb7-4de3-9afa-cde82e8f19c5",
   "metadata": {
    "tags": []
   },
   "outputs": [
    {
     "name": "stdout",
     "output_type": "stream",
     "text": [
      "Graph Knowledge in Natural Language:\n",
      "Lalbagh fort Located In Dhaka. Lalbagh fort religious structure mosque. Lalbagh fort landmark type historical building. Dhaka Capital Of Bangladesh.\n"
     ]
    }
   ],
   "source": [
    "def graph_to_natural_language(graph, target_entity=None):\n",
    "    facts = []\n",
    "    for source, target, data in graph.edges(data=True):\n",
    "        if target_entity and target_entity not in [source, target]:\n",
    "            continue  # Skip if not relevant to the target entity\n",
    "        relation = data['relation']\n",
    "        facts.append(f\"{source} {relation} {target}.\")\n",
    "    return \" \".join(facts)\n",
    "\n",
    "# Generate natural language facts for the entire graph\n",
    "context = graph_to_natural_language(G)\n",
    "print(\"Graph Knowledge in Natural Language:\")\n",
    "print(context)"
   ]
  },
  {
   "cell_type": "code",
   "execution_count": 53,
   "id": "2159c710-e589-4fae-94fe-0b96bf33b461",
   "metadata": {
    "tags": []
   },
   "outputs": [
    {
     "name": "stdout",
     "output_type": "stream",
     "text": [
      "Graph Knowledge in Bullet Points:\n",
      "- Lalbagh fort: Located In Dhaka\n",
      "- Lalbagh fort: religious structure mosque\n",
      "- Lalbagh fort: landmark type historical building\n",
      "- Dhaka: Capital Of Bangladesh\n"
     ]
    }
   ],
   "source": [
    "def graph_to_bullet_points(graph, target_entity=None):\n",
    "    bullet_points = []\n",
    "    for source, target, data in graph.edges(data=True):\n",
    "        if target_entity and target_entity not in [source, target]:\n",
    "            continue\n",
    "        relation = data['relation']\n",
    "        bullet_points.append(f\"- {source}: {relation} {target}\")\n",
    "    return \"\\n\".join(bullet_points)\n",
    "\n",
    "# Generate bullet points for a specific entity or the entire graph\n",
    "bullet_points_context = graph_to_bullet_points(G)\n",
    "print(\"Graph Knowledge in Bullet Points:\")\n",
    "print(bullet_points_context)"
   ]
  },
  {
   "cell_type": "code",
   "execution_count": 55,
   "id": "e001c262-d4ae-49d6-b248-dc22cc41ce4c",
   "metadata": {
    "tags": []
   },
   "outputs": [
    {
     "name": "stdout",
     "output_type": "stream",
     "text": [
      "Graph Knowledge in Triples:\n",
      "('Lalbagh fort', 'Located In', 'Dhaka')\n",
      "('Lalbagh fort', 'religious structure', 'mosque')\n",
      "('Lalbagh fort', 'landmark type', 'historical building')\n",
      "('Dhaka', 'Capital Of', 'Bangladesh')\n"
     ]
    }
   ],
   "source": [
    "def graph_to_triples(graph, target_entity=None):\n",
    "    triples = []\n",
    "    for source, target, data in graph.edges(data=True):\n",
    "        if target_entity and target_entity not in [source, target]:\n",
    "            continue\n",
    "        relation = data['relation']\n",
    "        triples.append((source, relation, target))\n",
    "    return triples\n",
    "\n",
    "triples_context = graph_to_triples(G)\n",
    "print(\"Graph Knowledge in Triples:\")\n",
    "for triple in triples_context:\n",
    "    print(triple)\n"
   ]
  },
  {
   "cell_type": "code",
   "execution_count": 54,
   "id": "0c33f99d-b5f4-4134-8cf2-71dd5c5d97ec",
   "metadata": {
    "tags": []
   },
   "outputs": [
    {
     "name": "stdout",
     "output_type": "stream",
     "text": [
      "Hierarchical Representation of Graph Knowledge:\n",
      "- Lalbagh fort\n",
      "  - Located In: Dhaka\n",
      "    - Dhaka\n",
      "      - Located In: Lalbagh fort\n",
      "      - Capital Of: Bangladesh\n",
      "        - Bangladesh\n",
      "          - Capital Of: Dhaka\n",
      "  - religious structure: mosque\n",
      "    - mosque\n",
      "      - religious structure: Lalbagh fort\n",
      "  - landmark type: historical building\n",
      "    - historical building\n",
      "      - landmark type: Lalbagh fort\n",
      "\n"
     ]
    }
   ],
   "source": [
    "def graph_to_hierarchical(graph, target_entity=None, level=0):\n",
    "    hierarchical_representation = \"\"\n",
    "    visited = set()\n",
    "    def traverse(node, level):\n",
    "        nonlocal hierarchical_representation\n",
    "        if node in visited:\n",
    "            return\n",
    "        visited.add(node)\n",
    "        prefix = \"  \" * level + \"- \"\n",
    "        hierarchical_representation += f\"{prefix}{node}\\n\"\n",
    "        for neighbor in graph.neighbors(node):\n",
    "            relation = graph[node][neighbor]['relation']\n",
    "            hierarchical_representation += f\"{'  ' * (level + 1)}- {relation}: {neighbor}\\n\"\n",
    "            traverse(neighbor, level + 2)\n",
    "    \n",
    "    if target_entity:\n",
    "        traverse(target_entity, level)\n",
    "    else:\n",
    "        for node in graph.nodes:\n",
    "            traverse(node, level)\n",
    "    return hierarchical_representation\n",
    "\n",
    "hierarchical_context = graph_to_hierarchical(G)\n",
    "print(\"Hierarchical Representation of Graph Knowledge:\")\n",
    "print(hierarchical_context)\n"
   ]
  },
  {
   "cell_type": "code",
   "execution_count": 64,
   "id": "c7441cde-5273-4823-b01b-56da7834d950",
   "metadata": {
    "tags": []
   },
   "outputs": [],
   "source": [
    "response_correction = [\n",
    "    {\n",
    "        \"role\": \"user\",\n",
    "        \"content\": [\n",
    "            {\"type\": \"text\", \"text\": f\"\"\"Use the knowledge from the context provided here {bullet_points_context} to correct the \n",
    "             facts in this response {response[0]}. Output the corrected response.\"\"\"},\n",
    "        ],\n",
    "    }\n",
    "]"
   ]
  },
  {
   "cell_type": "code",
   "execution_count": 65,
   "id": "0465c07d-6eef-4e64-b2fd-c156c3170f58",
   "metadata": {
    "tags": []
   },
   "outputs": [
    {
     "data": {
      "text/plain": [
       "['The image depicts the Lalbagh fort, a historic building located in Dhaka, Bangladesh. The Lalbagh fort is a religious structure, specifically a mosque. The fort is a landmark type of historical building, and it is situated in the heart of Dhaka. The image shows the main entrance of the Lalbagh fort, which features a large, ornate gate with a central archway and two smaller archways flanking it. The gate is made of red sandstone and is adorned with intricate carvings and sculptures. In front of the gate, there is a large, rectangular pool with a fountain in the center.']"
      ]
     },
     "execution_count": 65,
     "metadata": {},
     "output_type": "execute_result"
    }
   ],
   "source": [
    "corrected_captions = get_vlm_response_text(response_correction)\n",
    "corrected_captions"
   ]
  },
  {
   "cell_type": "code",
   "execution_count": 66,
   "id": "15fb2ab8-0b64-4ddf-b33e-65a205873b88",
   "metadata": {
    "tags": []
   },
   "outputs": [],
   "source": [
    "response_correction_hierarchical = [\n",
    "    {\n",
    "        \"role\": \"user\",\n",
    "        \"content\": [\n",
    "            {\"type\": \"text\", \"text\": f\"\"\"Use the knowledge from the context provided here {hierarchical_context} to correct the \n",
    "             facts in this response {response[0]}. Output the corrected response.\"\"\"},\n",
    "        ],\n",
    "    }\n",
    "]"
   ]
  },
  {
   "cell_type": "code",
   "execution_count": 67,
   "id": "50d63ac1-2ef7-4caa-8081-806ad71f9d26",
   "metadata": {
    "tags": []
   },
   "outputs": [
    {
     "data": {
      "text/plain": [
       "['The image depicts the Lalbagh fort, a historic building located in Dhaka, Bangladesh. The Lalbagh fort is a UNESCO World Heritage Site and is known for its rich history and architectural beauty. The image shows the main entrance of the complex, which features a large, ornate gate with a central archway and two smaller archways flanking it. The gate is made of red sandstone and is adorned with intricate carvings and sculptures. In front of the gate, there is a large, rectangular pool with a fountain in the center. The pool is filled with water and is surrounded by a stone pathway.']"
      ]
     },
     "execution_count": 67,
     "metadata": {},
     "output_type": "execute_result"
    }
   ],
   "source": [
    "corrected_captions_with_hierarchy = get_vlm_response_text(response_correction_hierarchical)\n",
    "corrected_captions_with_hierarchy"
   ]
  },
  {
   "cell_type": "code",
   "execution_count": 68,
   "id": "4e7dee4c-3caa-4605-b6a6-47b8f9f3f87a",
   "metadata": {
    "tags": []
   },
   "outputs": [],
   "source": [
    "response_correction_triplets = [\n",
    "    {\n",
    "        \"role\": \"user\",\n",
    "        \"content\": [\n",
    "            {\"type\": \"text\", \"text\": f\"\"\"Use the knowledge from the context provided here {triples_context} to correct the \n",
    "             facts in this response {response[0]}. Output the corrected response.\"\"\"},\n",
    "        ],\n",
    "    }\n",
    "]"
   ]
  },
  {
   "cell_type": "code",
   "execution_count": 69,
   "id": "d72eecad-822b-453a-92a8-172e50b04c62",
   "metadata": {
    "tags": []
   },
   "outputs": [
    {
     "data": {
      "text/plain": [
       "['The image depicts the Lalbagh fort, a historic garden and mosque complex located in Dhaka, Bangladesh. The Lalbagh fort is a UNESCO World Heritage Site and is known for its stunning architecture and serene atmosphere. The image shows the main entrance of the complex, which features a large, ornate gate with a central archway and two smaller archways flanking it. The gate is made of red sandstone and is adorned with intricate carvings and sculptures. In front of the gate, there is a large, rectangular pool with a fountain in the center.']"
      ]
     },
     "execution_count": 69,
     "metadata": {},
     "output_type": "execute_result"
    }
   ],
   "source": [
    "corrected_captions_with_triples = get_vlm_response_text(response_correction_triplets)\n",
    "corrected_captions_with_triples"
   ]
  },
  {
   "cell_type": "code",
   "execution_count": 22,
   "id": "f5b38209-6401-4453-9bf1-d4487eeefa83",
   "metadata": {
    "tags": []
   },
   "outputs": [],
   "source": [
    "import torch\n",
    "torch.cuda.empty_cache()"
   ]
  },
  {
   "cell_type": "code",
   "execution_count": null,
   "id": "a89b27c4-200a-47f0-8d1f-0d734267f8c4",
   "metadata": {},
   "outputs": [],
   "source": []
  }
 ],
 "metadata": {
  "kernelspec": {
   "display_name": "conda_pytorch_p310",
   "language": "python",
   "name": "conda_pytorch_p310"
  },
  "language_info": {
   "codemirror_mode": {
    "name": "ipython",
    "version": 3
   },
   "file_extension": ".py",
   "mimetype": "text/x-python",
   "name": "python",
   "nbconvert_exporter": "python",
   "pygments_lexer": "ipython3",
   "version": "3.10.14"
  }
 },
 "nbformat": 4,
 "nbformat_minor": 5
}
